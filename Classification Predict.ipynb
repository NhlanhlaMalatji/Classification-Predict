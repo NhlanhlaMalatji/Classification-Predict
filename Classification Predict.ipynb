{
 "cells": [
  {
   "cell_type": "markdown",
   "id": "85449f07",
   "metadata": {},
   "source": [
    "# Twitter Sentiment Classification"
   ]
  },
  {
   "cell_type": "markdown",
   "id": "f44e7026",
   "metadata": {},
   "source": [
    "# Project Overview"
   ]
  },
  {
   "cell_type": "markdown",
   "id": "c42489fc",
   "metadata": {},
   "source": [
    "Many companies are built around lessening one’s environmental impact or carbon footprint. They offer products and services that are environmentally friendly and sustainable, in line with their values and ideals. They would like to determine how people perceive climate change and whether or not they believe it is a real threat. This would add to their market research efforts in gauging how their product/service may be received.\n",
    "\n",
    "With this context, EA is challenging you during the Classification Sprint with the task of creating a Machine Learning model that is able to classify whether or not a person believes in climate change, based on their novel tweet data.\n",
    "\n",
    "Providing an accurate and robust solution to this task gives companies access to a broad base of consumer sentiment, spanning multiple demographic and geographic categories - thus increasing their insights and informing future marketing strategies."
   ]
  },
  {
   "cell_type": "markdown",
   "id": "bddafdc9",
   "metadata": {},
   "source": [
    "# Problem Statement"
   ]
  },
  {
   "cell_type": "markdown",
   "id": "d09655cd",
   "metadata": {},
   "source": [
    "Build a model to classify whether or not a person believes in climate change, based on their novel tweet data."
   ]
  },
  {
   "cell_type": "markdown",
   "id": "c0d9f132",
   "metadata": {},
   "source": [
    "# Data Description"
   ]
  },
  {
   "cell_type": "markdown",
   "id": "bd03a105",
   "metadata": {},
   "source": [
    "The collection of this data was funded by a Canada Foundation for Innovation JELF Grant to Chris Bauch, University of Waterloo. The dataset aggregates tweets pertaining to climate change collected between Apr 27, 2015 and Feb 21, 2018. In total, 43,943 tweets were collected. Each tweet is labelled as one of 4 classes, which are described below."
   ]
  },
  {
   "cell_type": "markdown",
   "id": "09b074a8",
   "metadata": {},
   "source": [
    "# Class Description"
   ]
  },
  {
   "cell_type": "markdown",
   "id": "41147893",
   "metadata": {},
   "source": [
    "2 News: the tweet links to factual news about climate change\n",
    "\n",
    "1 Pro: the tweet supports the belief of man-made climate change\n",
    "\n",
    "0 Neutral: the tweet neither supports nor refutes the belief of man-made climate change\n",
    "\n",
    "-1 Anti: the tweet does not believe in man-made climate change Variable definitions"
   ]
  },
  {
   "cell_type": "markdown",
   "id": "72741bc0",
   "metadata": {},
   "source": [
    "# Features"
   ]
  },
  {
   "cell_type": "markdown",
   "id": "3ebc78ca",
   "metadata": {},
   "source": [
    "sentiment: Which class a tweet belongs in (refer to Class Description above)\n",
    "\n",
    "message: Tweet body\n",
    "\n",
    "tweetid: Twitter unique id"
   ]
  },
  {
   "cell_type": "markdown",
   "id": "16d6bab5",
   "metadata": {},
   "source": [
    "# Import Libraries"
   ]
  },
  {
   "cell_type": "code",
   "execution_count": 2,
   "id": "a58f213f",
   "metadata": {},
   "outputs": [
    {
     "name": "stderr",
     "output_type": "stream",
     "text": [
      "[nltk_data] Downloading package stopwords to\n",
      "[nltk_data]     C:\\Users\\w5665264\\AppData\\Roaming\\nltk_data...\n",
      "[nltk_data]   Package stopwords is already up-to-date!\n",
      "[nltk_data] Downloading package punkt to\n",
      "[nltk_data]     C:\\Users\\w5665264\\AppData\\Roaming\\nltk_data...\n",
      "[nltk_data]   Package punkt is already up-to-date!\n"
     ]
    }
   ],
   "source": [
    "#Importing libraries\n",
    "import pickle\n",
    "import pandas as pd\n",
    "import seaborn as sns\n",
    "from scipy import stats\n",
    "import matplotlib.pyplot as plt\n",
    "from matplotlib.colors import ListedColormap\n",
    "%matplotlib inline\n",
    "\n",
    "\n",
    "\n",
    "# Import libraries for Natural Languge Processing\n",
    "import re\n",
    "import nltk\n",
    "import numpy as np\n",
    "import pandas as pd\n",
    "from nltk.corpus import stopwords\n",
    "from html.parser import HTMLParser\n",
    "from nltk.stem import PorterStemmer\n",
    "from nltk.tokenize import word_tokenize\n",
    "nltk.download('stopwords')\n",
    "nltk.download('punkt')\n",
    "\n",
    "# Import library for Feature Extraction\n",
    "from sklearn.pipeline import Pipeline\n",
    "from sklearn.feature_extraction.text import CountVectorizer\n",
    "\n",
    "# Import library for train test split\n",
    "from sklearn.model_selection import train_test_split\n",
    "\n",
    "# Import Machine Learning algorithms\n",
    "from sklearn.svm import SVC\n",
    "from sklearn import metrics\n",
    "from sklearn.svm import LinearSVC\n",
    "from sklearn.tree import DecisionTreeClassifier\n",
    "from sklearn.model_selection import GridSearchCV, RandomizedSearchCV\n",
    "from sklearn.neighbors import KNeighborsClassifier\n",
    "from sklearn.model_selection import StratifiedKFold, cross_val_score\n",
    "from sklearn.linear_model import LogisticRegression\n",
    "from sklearn.linear_model import LogisticRegression\n",
    "from sklearn.ensemble import RandomForestClassifier, AdaBoostClassifier\n",
    "from sklearn.ensemble import VotingClassifier\n",
    "\n",
    "# Import libraries for model evaluation\n",
    "from sklearn.metrics import classification_report, accuracy_score, confusion_matrix\n",
    "\n",
    "# Import warnings\n",
    "import warnings\n",
    "warnings.filterwarnings('ignore', category=FutureWarning)\n",
    "warnings.filterwarnings('ignore', category=DeprecationWarning)"
   ]
  },
  {
   "cell_type": "markdown",
   "id": "19b1ba6a",
   "metadata": {},
   "source": [
    "# Loading the datasets"
   ]
  },
  {
   "cell_type": "code",
   "execution_count": 3,
   "id": "02d2b735",
   "metadata": {},
   "outputs": [],
   "source": [
    "#load datasets\n",
    "Train_df=pd.read_csv('train.csv')\n",
    "Test_df=pd.read_csv('test_with_no_labels.csv')"
   ]
  },
  {
   "cell_type": "code",
   "execution_count": 4,
   "id": "3ebdf5c3",
   "metadata": {},
   "outputs": [
    {
     "data": {
      "text/html": [
       "<div>\n",
       "<style scoped>\n",
       "    .dataframe tbody tr th:only-of-type {\n",
       "        vertical-align: middle;\n",
       "    }\n",
       "\n",
       "    .dataframe tbody tr th {\n",
       "        vertical-align: top;\n",
       "    }\n",
       "\n",
       "    .dataframe thead th {\n",
       "        text-align: right;\n",
       "    }\n",
       "</style>\n",
       "<table border=\"1\" class=\"dataframe\">\n",
       "  <thead>\n",
       "    <tr style=\"text-align: right;\">\n",
       "      <th></th>\n",
       "      <th>sentiment</th>\n",
       "      <th>message</th>\n",
       "      <th>tweetid</th>\n",
       "    </tr>\n",
       "  </thead>\n",
       "  <tbody>\n",
       "    <tr>\n",
       "      <th>0</th>\n",
       "      <td>1</td>\n",
       "      <td>PolySciMajor EPA chief doesn't think carbon di...</td>\n",
       "      <td>625221</td>\n",
       "    </tr>\n",
       "    <tr>\n",
       "      <th>1</th>\n",
       "      <td>1</td>\n",
       "      <td>It's not like we lack evidence of anthropogeni...</td>\n",
       "      <td>126103</td>\n",
       "    </tr>\n",
       "    <tr>\n",
       "      <th>2</th>\n",
       "      <td>2</td>\n",
       "      <td>RT @RawStory: Researchers say we have three ye...</td>\n",
       "      <td>698562</td>\n",
       "    </tr>\n",
       "    <tr>\n",
       "      <th>3</th>\n",
       "      <td>1</td>\n",
       "      <td>#TodayinMaker# WIRED : 2016 was a pivotal year...</td>\n",
       "      <td>573736</td>\n",
       "    </tr>\n",
       "    <tr>\n",
       "      <th>4</th>\n",
       "      <td>1</td>\n",
       "      <td>RT @SoyNovioDeTodas: It's 2016, and a racist, ...</td>\n",
       "      <td>466954</td>\n",
       "    </tr>\n",
       "    <tr>\n",
       "      <th>...</th>\n",
       "      <td>...</td>\n",
       "      <td>...</td>\n",
       "      <td>...</td>\n",
       "    </tr>\n",
       "    <tr>\n",
       "      <th>15814</th>\n",
       "      <td>1</td>\n",
       "      <td>RT @ezlusztig: They took down the material on ...</td>\n",
       "      <td>22001</td>\n",
       "    </tr>\n",
       "    <tr>\n",
       "      <th>15815</th>\n",
       "      <td>2</td>\n",
       "      <td>RT @washingtonpost: How climate change could b...</td>\n",
       "      <td>17856</td>\n",
       "    </tr>\n",
       "    <tr>\n",
       "      <th>15816</th>\n",
       "      <td>0</td>\n",
       "      <td>notiven: RT: nytimesworld :What does Trump act...</td>\n",
       "      <td>384248</td>\n",
       "    </tr>\n",
       "    <tr>\n",
       "      <th>15817</th>\n",
       "      <td>-1</td>\n",
       "      <td>RT @sara8smiles: Hey liberals the climate chan...</td>\n",
       "      <td>819732</td>\n",
       "    </tr>\n",
       "    <tr>\n",
       "      <th>15818</th>\n",
       "      <td>0</td>\n",
       "      <td>RT @Chet_Cannon: .@kurteichenwald's 'climate c...</td>\n",
       "      <td>806319</td>\n",
       "    </tr>\n",
       "  </tbody>\n",
       "</table>\n",
       "<p>15819 rows × 3 columns</p>\n",
       "</div>"
      ],
      "text/plain": [
       "       sentiment                                            message  tweetid\n",
       "0              1  PolySciMajor EPA chief doesn't think carbon di...   625221\n",
       "1              1  It's not like we lack evidence of anthropogeni...   126103\n",
       "2              2  RT @RawStory: Researchers say we have three ye...   698562\n",
       "3              1  #TodayinMaker# WIRED : 2016 was a pivotal year...   573736\n",
       "4              1  RT @SoyNovioDeTodas: It's 2016, and a racist, ...   466954\n",
       "...          ...                                                ...      ...\n",
       "15814          1  RT @ezlusztig: They took down the material on ...    22001\n",
       "15815          2  RT @washingtonpost: How climate change could b...    17856\n",
       "15816          0  notiven: RT: nytimesworld :What does Trump act...   384248\n",
       "15817         -1  RT @sara8smiles: Hey liberals the climate chan...   819732\n",
       "15818          0  RT @Chet_Cannon: .@kurteichenwald's 'climate c...   806319\n",
       "\n",
       "[15819 rows x 3 columns]"
      ]
     },
     "execution_count": 4,
     "metadata": {},
     "output_type": "execute_result"
    }
   ],
   "source": [
    "Train_df"
   ]
  },
  {
   "cell_type": "code",
   "execution_count": 5,
   "id": "c82148fa",
   "metadata": {},
   "outputs": [
    {
     "data": {
      "text/html": [
       "<div>\n",
       "<style scoped>\n",
       "    .dataframe tbody tr th:only-of-type {\n",
       "        vertical-align: middle;\n",
       "    }\n",
       "\n",
       "    .dataframe tbody tr th {\n",
       "        vertical-align: top;\n",
       "    }\n",
       "\n",
       "    .dataframe thead th {\n",
       "        text-align: right;\n",
       "    }\n",
       "</style>\n",
       "<table border=\"1\" class=\"dataframe\">\n",
       "  <thead>\n",
       "    <tr style=\"text-align: right;\">\n",
       "      <th></th>\n",
       "      <th>message</th>\n",
       "      <th>tweetid</th>\n",
       "    </tr>\n",
       "  </thead>\n",
       "  <tbody>\n",
       "    <tr>\n",
       "      <th>0</th>\n",
       "      <td>Europe will now be looking to China to make su...</td>\n",
       "      <td>169760</td>\n",
       "    </tr>\n",
       "    <tr>\n",
       "      <th>1</th>\n",
       "      <td>Combine this with the polling of staffers re c...</td>\n",
       "      <td>35326</td>\n",
       "    </tr>\n",
       "    <tr>\n",
       "      <th>2</th>\n",
       "      <td>The scary, unimpeachable evidence that climate...</td>\n",
       "      <td>224985</td>\n",
       "    </tr>\n",
       "    <tr>\n",
       "      <th>3</th>\n",
       "      <td>@Karoli @morgfair @OsborneInk @dailykos \\nPuti...</td>\n",
       "      <td>476263</td>\n",
       "    </tr>\n",
       "    <tr>\n",
       "      <th>4</th>\n",
       "      <td>RT @FakeWillMoore: 'Female orgasms cause globa...</td>\n",
       "      <td>872928</td>\n",
       "    </tr>\n",
       "    <tr>\n",
       "      <th>...</th>\n",
       "      <td>...</td>\n",
       "      <td>...</td>\n",
       "    </tr>\n",
       "    <tr>\n",
       "      <th>10541</th>\n",
       "      <td>RT @BrittanyBohrer: Brb, writing a poem about ...</td>\n",
       "      <td>895714</td>\n",
       "    </tr>\n",
       "    <tr>\n",
       "      <th>10542</th>\n",
       "      <td>2016: the year climate change came home: Durin...</td>\n",
       "      <td>875167</td>\n",
       "    </tr>\n",
       "    <tr>\n",
       "      <th>10543</th>\n",
       "      <td>RT @loop_vanuatu: Pacific countries positive a...</td>\n",
       "      <td>78329</td>\n",
       "    </tr>\n",
       "    <tr>\n",
       "      <th>10544</th>\n",
       "      <td>RT @xanria_00018: You’re so hot, you must be t...</td>\n",
       "      <td>867455</td>\n",
       "    </tr>\n",
       "    <tr>\n",
       "      <th>10545</th>\n",
       "      <td>RT @chloebalaoing: climate change is a global ...</td>\n",
       "      <td>470892</td>\n",
       "    </tr>\n",
       "  </tbody>\n",
       "</table>\n",
       "<p>10546 rows × 2 columns</p>\n",
       "</div>"
      ],
      "text/plain": [
       "                                                 message  tweetid\n",
       "0      Europe will now be looking to China to make su...   169760\n",
       "1      Combine this with the polling of staffers re c...    35326\n",
       "2      The scary, unimpeachable evidence that climate...   224985\n",
       "3      @Karoli @morgfair @OsborneInk @dailykos \\nPuti...   476263\n",
       "4      RT @FakeWillMoore: 'Female orgasms cause globa...   872928\n",
       "...                                                  ...      ...\n",
       "10541  RT @BrittanyBohrer: Brb, writing a poem about ...   895714\n",
       "10542  2016: the year climate change came home: Durin...   875167\n",
       "10543  RT @loop_vanuatu: Pacific countries positive a...    78329\n",
       "10544  RT @xanria_00018: You’re so hot, you must be t...   867455\n",
       "10545  RT @chloebalaoing: climate change is a global ...   470892\n",
       "\n",
       "[10546 rows x 2 columns]"
      ]
     },
     "execution_count": 5,
     "metadata": {},
     "output_type": "execute_result"
    }
   ],
   "source": [
    "Test_df"
   ]
  },
  {
   "cell_type": "markdown",
   "id": "d8da0f4b",
   "metadata": {},
   "source": [
    "# Datasets Summary"
   ]
  },
  {
   "cell_type": "code",
   "execution_count": 6,
   "id": "59fa94bd",
   "metadata": {},
   "outputs": [
    {
     "data": {
      "text/plain": [
       "(15819, 3)"
      ]
     },
     "execution_count": 6,
     "metadata": {},
     "output_type": "execute_result"
    }
   ],
   "source": [
    "Train_df.shape"
   ]
  },
  {
   "cell_type": "code",
   "execution_count": 7,
   "id": "d94f0471",
   "metadata": {},
   "outputs": [
    {
     "name": "stdout",
     "output_type": "stream",
     "text": [
      "<class 'pandas.core.frame.DataFrame'>\n",
      "RangeIndex: 15819 entries, 0 to 15818\n",
      "Data columns (total 3 columns):\n",
      " #   Column     Non-Null Count  Dtype \n",
      "---  ------     --------------  ----- \n",
      " 0   sentiment  15819 non-null  int64 \n",
      " 1   message    15819 non-null  object\n",
      " 2   tweetid    15819 non-null  int64 \n",
      "dtypes: int64(2), object(1)\n",
      "memory usage: 370.9+ KB\n"
     ]
    }
   ],
   "source": [
    "Train_df.info()"
   ]
  },
  {
   "cell_type": "code",
   "execution_count": 8,
   "id": "6ac92032",
   "metadata": {},
   "outputs": [
    {
     "data": {
      "text/html": [
       "<div>\n",
       "<style scoped>\n",
       "    .dataframe tbody tr th:only-of-type {\n",
       "        vertical-align: middle;\n",
       "    }\n",
       "\n",
       "    .dataframe tbody tr th {\n",
       "        vertical-align: top;\n",
       "    }\n",
       "\n",
       "    .dataframe thead th {\n",
       "        text-align: right;\n",
       "    }\n",
       "</style>\n",
       "<table border=\"1\" class=\"dataframe\">\n",
       "  <thead>\n",
       "    <tr style=\"text-align: right;\">\n",
       "      <th></th>\n",
       "      <th>sentiment</th>\n",
       "      <th>tweetid</th>\n",
       "    </tr>\n",
       "  </thead>\n",
       "  <tbody>\n",
       "    <tr>\n",
       "      <th>count</th>\n",
       "      <td>15819.000000</td>\n",
       "      <td>15819.000000</td>\n",
       "    </tr>\n",
       "    <tr>\n",
       "      <th>mean</th>\n",
       "      <td>0.917504</td>\n",
       "      <td>501719.433656</td>\n",
       "    </tr>\n",
       "    <tr>\n",
       "      <th>std</th>\n",
       "      <td>0.836537</td>\n",
       "      <td>289045.983132</td>\n",
       "    </tr>\n",
       "    <tr>\n",
       "      <th>min</th>\n",
       "      <td>-1.000000</td>\n",
       "      <td>6.000000</td>\n",
       "    </tr>\n",
       "    <tr>\n",
       "      <th>25%</th>\n",
       "      <td>1.000000</td>\n",
       "      <td>253207.500000</td>\n",
       "    </tr>\n",
       "    <tr>\n",
       "      <th>50%</th>\n",
       "      <td>1.000000</td>\n",
       "      <td>502291.000000</td>\n",
       "    </tr>\n",
       "    <tr>\n",
       "      <th>75%</th>\n",
       "      <td>1.000000</td>\n",
       "      <td>753769.000000</td>\n",
       "    </tr>\n",
       "    <tr>\n",
       "      <th>max</th>\n",
       "      <td>2.000000</td>\n",
       "      <td>999888.000000</td>\n",
       "    </tr>\n",
       "  </tbody>\n",
       "</table>\n",
       "</div>"
      ],
      "text/plain": [
       "          sentiment        tweetid\n",
       "count  15819.000000   15819.000000\n",
       "mean       0.917504  501719.433656\n",
       "std        0.836537  289045.983132\n",
       "min       -1.000000       6.000000\n",
       "25%        1.000000  253207.500000\n",
       "50%        1.000000  502291.000000\n",
       "75%        1.000000  753769.000000\n",
       "max        2.000000  999888.000000"
      ]
     },
     "execution_count": 8,
     "metadata": {},
     "output_type": "execute_result"
    }
   ],
   "source": [
    "Train_df.describe()"
   ]
  },
  {
   "cell_type": "markdown",
   "id": "5bff965e",
   "metadata": {},
   "source": [
    "# Missing Values"
   ]
  },
  {
   "cell_type": "code",
   "execution_count": 9,
   "id": "1a8ba3a0",
   "metadata": {},
   "outputs": [
    {
     "data": {
      "text/plain": [
       "sentiment    0\n",
       "message      0\n",
       "tweetid      0\n",
       "dtype: int64"
      ]
     },
     "execution_count": 9,
     "metadata": {},
     "output_type": "execute_result"
    }
   ],
   "source": [
    "Train_df.isnull().sum()"
   ]
  },
  {
   "cell_type": "code",
   "execution_count": 10,
   "id": "86c2a55e",
   "metadata": {},
   "outputs": [
    {
     "data": {
      "text/plain": [
       "message    0\n",
       "tweetid    0\n",
       "dtype: int64"
      ]
     },
     "execution_count": 10,
     "metadata": {},
     "output_type": "execute_result"
    }
   ],
   "source": [
    "Test_df.isnull().sum(axis=0)"
   ]
  },
  {
   "cell_type": "markdown",
   "id": "689ff343",
   "metadata": {},
   "source": [
    "Unfortunately there is no missing values from the datasets"
   ]
  },
  {
   "cell_type": "code",
   "execution_count": 11,
   "id": "b74712e3",
   "metadata": {},
   "outputs": [
    {
     "data": {
      "text/plain": [
       "0"
      ]
     },
     "execution_count": 11,
     "metadata": {},
     "output_type": "execute_result"
    }
   ],
   "source": [
    "#check duplicates\n",
    "Train_df.duplicated().sum()"
   ]
  },
  {
   "cell_type": "code",
   "execution_count": 12,
   "id": "13bfbbb3",
   "metadata": {},
   "outputs": [
    {
     "data": {
      "text/plain": [
       "0"
      ]
     },
     "execution_count": 12,
     "metadata": {},
     "output_type": "execute_result"
    }
   ],
   "source": [
    "Test_df.duplicated().sum()"
   ]
  },
  {
   "cell_type": "markdown",
   "id": "7131d150",
   "metadata": {},
   "source": [
    "Unfortunately there is no duplicates"
   ]
  },
  {
   "cell_type": "markdown",
   "id": "f977d9bd",
   "metadata": {},
   "source": [
    "# Text Cleaning"
   ]
  },
  {
   "cell_type": "markdown",
   "id": "8dd3ccf6",
   "metadata": {},
   "source": [
    "Data cleaning is a crucial step in the machine learning (ML) pipeline, as it involves identifying and removing any missing, duplicate, or irrelevant data. The goal of data cleaning is to ensure that the data is accurate, consistent, and free of errors, as incorrect or inconsistent data can negatively impact the performance of the ML model."
   ]
  },
  {
   "cell_type": "code",
   "execution_count": 13,
   "id": "9cdb1454",
   "metadata": {},
   "outputs": [
    {
     "data": {
      "image/png": "[encoded data removed]",
      "text/plain": [
       "<Figure size 640x480 with 1 Axes>"
      ]
     },
     "metadata": {},
     "output_type": "display_data"
    }
   ],
   "source": [
    "sns.countplot(x = 'sentiment', data = Train_df, palette=\"hls\")\n",
    "plt.title(\"Distribution of sentiment\");"
   ]
  },
  {
   "cell_type": "code",
   "execution_count": 14,
   "id": "b961f693",
   "metadata": {},
   "outputs": [
    {
     "data": {
      "text/plain": [
       "0        1\n",
       "1        1\n",
       "2        2\n",
       "3        1\n",
       "4        1\n",
       "        ..\n",
       "15814    1\n",
       "15815    2\n",
       "15816    0\n",
       "15817   -1\n",
       "15818    0\n",
       "Name: sentiment, Length: 15819, dtype: int64"
      ]
     },
     "execution_count": 14,
     "metadata": {},
     "output_type": "execute_result"
    }
   ],
   "source": [
    "Train_df['sentiment']"
   ]
  },
  {
   "cell_type": "code",
   "execution_count": 40,
   "id": "feea1d52",
   "metadata": {},
   "outputs": [
    {
     "data": {
      "text/plain": [
       "0        PolySciMajor EPA chief doesn't think carbon di...\n",
       "1        It's not like we lack evidence of anthropogeni...\n",
       "2        RT @RawStory: Researchers say we have three ye...\n",
       "3        #TodayinMaker# WIRED : 2016 was a pivotal year...\n",
       "4        RT @SoyNovioDeTodas: It's 2016, and a racist, ...\n",
       "                               ...                        \n",
       "15814    RT @ezlusztig: They took down the material on ...\n",
       "15815    RT @washingtonpost: How climate change could b...\n",
       "15816    notiven: RT: nytimesworld :What does Trump act...\n",
       "15817    RT @sara8smiles: Hey liberals the climate chan...\n",
       "15818    RT @Chet_Cannon: .@kurteichenwald's 'climate c...\n",
       "Name: message, Length: 15819, dtype: object"
      ]
     },
     "execution_count": 40,
     "metadata": {},
     "output_type": "execute_result"
    }
   ],
   "source": [
    "raw_tweets=Train_df['message']\n",
    "raw_tweets"
   ]
  },
  {
   "cell_type": "markdown",
   "id": "fbe200cf",
   "metadata": {},
   "source": [
    "The regex library is a powerful tool for working with regular expressions in Python, offering additional features and enhancements over the standard re module. Regex is optimized for performance and often offers faster execution compared to the re module, especially for complex or large-scale regular expressions. In this case regex will be used to clean the tweets"
   ]
  },
  {
   "cell_type": "code",
   "execution_count": 41,
   "id": "2e2166a2",
   "metadata": {},
   "outputs": [],
   "source": [
    "# Replace email addresses with 'email'\n",
    "tweets = raw_tweets.str.replace(r'^.+@[^\\.].*\\.[a-z]{2,}$',\n",
    "                                 'emailaddress')\n",
    "\n",
    "# Remove unicode strings\n",
    "tweets = tweets.str.replace(r'(\\\\u[0-9A-Fa-f]+)', '')\n",
    "tweets = tweets.str.replace(r'[^\\x00-\\x7f]', '')\n",
    "\n",
    "# Convert any url to URL\n",
    "tweets = tweets.str.replace('((www\\.[^\\s]+)|(https?://[^\\s]+))',\n",
    "                            'website')\n",
    "\n",
    "# Remove special characters, numbers, punctuation\n",
    "tweets = tweets.str.replace('[^a-zA-Z#@]+',' ')\n",
    "\n",
    "# Remove additional white spaces\n",
    "tweets = tweets.str.replace(r'\\s+', ' ')\n",
    "tweets = tweets.str.replace(r'^\\s+|\\s+?$', '')\n",
    "\n",
    "# Change words to lower case\n",
    "tweets = tweets.str.lower()"
   ]
  },
  {
   "cell_type": "code",
   "execution_count": 17,
   "id": "592f12e5",
   "metadata": {},
   "outputs": [
    {
     "data": {
      "text/plain": [
       "0        polyscimajor epa chief doesn t think carbon di...\n",
       "1        it s not like we lack evidence of anthropogeni...\n",
       "2        rt @rawstory researchers say we have three yea...\n",
       "3        #todayinmaker# wired was a pivotal year in the...\n",
       "4        rt @soynoviodetodas it s and a racist sexist c...\n",
       "                               ...                        \n",
       "15814    rt @ezlusztig they took down the material on g...\n",
       "15815    rt @washingtonpost how climate change could be...\n",
       "15816    notiven rt nytimesworld what does trump actual...\n",
       "15817    rt @sara smiles hey liberals the climate chang...\n",
       "15818    rt @chet cannon @kurteichenwald s climate chan...\n",
       "Name: message, Length: 15819, dtype: object"
      ]
     },
     "execution_count": 17,
     "metadata": {},
     "output_type": "execute_result"
    }
   ],
   "source": [
    "tweets"
   ]
  },
  {
   "cell_type": "code",
   "execution_count": 18,
   "id": "53b81163",
   "metadata": {},
   "outputs": [],
   "source": [
    "# Remove stop words from tweets\n",
    "stop_words = set(stopwords.words('english'))\n",
    "\n",
    "tweets = tweets.apply(lambda x: ' '.join(\n",
    "    word for word in x.split() if word not in stop_words))"
   ]
  },
  {
   "cell_type": "code",
   "execution_count": 19,
   "id": "28808fdf",
   "metadata": {},
   "outputs": [
    {
     "data": {
      "text/plain": [
       "0        polyscimajor epa chief think carbon dioxide ma...\n",
       "1          like lack evidence anthropogenic global warming\n",
       "2        rt @rawstory researchers say three years act c...\n",
       "3        #todayinmaker# wired pivotal year war climate ...\n",
       "4        rt @soynoviodetodas racist sexist climate chan...\n",
       "                               ...                        \n",
       "15814    rt @ezlusztig took material global warming lgb...\n",
       "15815    rt @washingtonpost climate change could breaki...\n",
       "15816    notiven rt nytimesworld trump actually believe...\n",
       "15817    rt @sara smiles hey liberals climate change cr...\n",
       "15818    rt @chet cannon @kurteichenwald climate change...\n",
       "Name: message, Length: 15819, dtype: object"
      ]
     },
     "execution_count": 19,
     "metadata": {},
     "output_type": "execute_result"
    }
   ],
   "source": [
    "tweets"
   ]
  },
  {
   "cell_type": "code",
   "execution_count": 53,
   "id": "6c05dc9e",
   "metadata": {},
   "outputs": [
    {
     "data": {
      "text/html": [
       "<div>\n",
       "<style scoped>\n",
       "    .dataframe tbody tr th:only-of-type {\n",
       "        vertical-align: middle;\n",
       "    }\n",
       "\n",
       "    .dataframe tbody tr th {\n",
       "        vertical-align: top;\n",
       "    }\n",
       "\n",
       "    .dataframe thead th {\n",
       "        text-align: right;\n",
       "    }\n",
       "</style>\n",
       "<table border=\"1\" class=\"dataframe\">\n",
       "  <thead>\n",
       "    <tr style=\"text-align: right;\">\n",
       "      <th></th>\n",
       "      <th>message</th>\n",
       "      <th>sentiment</th>\n",
       "    </tr>\n",
       "  </thead>\n",
       "  <tbody>\n",
       "    <tr>\n",
       "      <th>0</th>\n",
       "      <td>polyscimajor epa chief doesn t think carbon di...</td>\n",
       "      <td>1</td>\n",
       "    </tr>\n",
       "    <tr>\n",
       "      <th>1</th>\n",
       "      <td>it s not like we lack evidence of anthropogeni...</td>\n",
       "      <td>1</td>\n",
       "    </tr>\n",
       "    <tr>\n",
       "      <th>2</th>\n",
       "      <td>rt @rawstory researchers say we have three yea...</td>\n",
       "      <td>2</td>\n",
       "    </tr>\n",
       "    <tr>\n",
       "      <th>3</th>\n",
       "      <td>#todayinmaker# wired was a pivotal year in the...</td>\n",
       "      <td>1</td>\n",
       "    </tr>\n",
       "    <tr>\n",
       "      <th>4</th>\n",
       "      <td>rt @soynoviodetodas it s and a racist sexist c...</td>\n",
       "      <td>1</td>\n",
       "    </tr>\n",
       "  </tbody>\n",
       "</table>\n",
       "</div>"
      ],
      "text/plain": [
       "                                             message  sentiment\n",
       "0  polyscimajor epa chief doesn t think carbon di...          1\n",
       "1  it s not like we lack evidence of anthropogeni...          1\n",
       "2  rt @rawstory researchers say we have three yea...          2\n",
       "3  #todayinmaker# wired was a pivotal year in the...          1\n",
       "4  rt @soynoviodetodas it s and a racist sexist c...          1"
      ]
     },
     "execution_count": 53,
     "metadata": {},
     "output_type": "execute_result"
    }
   ],
   "source": [
    "# Creating a dataframe from the cleaned up message column\n",
    "tweets_df = pd.DataFrame(tweets)\n",
    "\n",
    "# Add sentiment column to the tweets dataframe\n",
    "tweets_df['sentiment'] = Train_df['sentiment']\n",
    "\n",
    "# View the top 5 rows of tweets\n",
    "tweets_df.head()"
   ]
  },
  {
   "cell_type": "code",
   "execution_count": null,
   "id": "2a7dafbb",
   "metadata": {},
   "outputs": [],
   "source": [
    "\n",
    "import regex\n",
    "def clean_text(text):\n",
    "    # Define regex pattern to match '#', 'rt', and '@' symbols\n",
    "    pattern = r'[@#]|rt\\b'\n",
    "    # Use regex substitution to replace matched patterns with an empty string\n",
    "    cleaned_text = regex.sub(pattern, '', text)\n",
    "    return cleaned_text\n",
    "\n",
    "\n",
    "tweets_df['cleaned_tweets'] = tweets_df['message'].apply(clean_text)\n",
    "\n",
    "\n",
    "\n",
    "\n",
    "tweets_df.head()"
   ]
  },
  {
   "cell_type": "code",
   "execution_count": 55,
   "id": "7801edee",
   "metadata": {},
   "outputs": [
    {
     "name": "stdout",
     "output_type": "stream",
     "text": [
      "Index(['message', 'sentiment', 'cleaned_tweets'], dtype='object')\n"
     ]
    }
   ],
   "source": [
    "print(tweets_df.columns)"
   ]
  },
  {
   "cell_type": "code",
   "execution_count": 56,
   "id": "8826f14f",
   "metadata": {},
   "outputs": [],
   "source": [
    "news_tweets = ' '.join(tweets_df.loc[tweets_df['sentiment'] == 2, 'message'])\n",
    "pro_tweets = ' '.join(tweets_df.loc[tweets_df['sentiment'] == 1, 'message'])\n",
    "neutral_tweets = ' '.join(tweets_df.loc[tweets_df['sentiment'] == 0, 'message'])\n",
    "anti_tweets = ' '.join(tweets_df.loc[tweets_df['sentiment'] == -1, 'message'])"
   ]
  },
  {
   "cell_type": "code",
   "execution_count": null,
   "id": "ae8a63ad",
   "metadata": {},
   "outputs": [],
   "source": []
  },
  {
   "cell_type": "code",
   "execution_count": null,
   "id": "f8406102",
   "metadata": {},
   "outputs": [],
   "source": []
  },
  {
   "cell_type": "code",
   "execution_count": 57,
   "id": "c8533e02",
   "metadata": {},
   "outputs": [
    {
     "data": {
      "image/png": "[encoded data removed]",
      "text/plain": [
       "<Figure size 5000x500 with 1 Axes>"
      ]
     },
     "metadata": {},
     "output_type": "display_data"
    },
    {
     "data": {
      "image/png": "[encoded data removed]",
      "text/plain": [
       "<Figure size 5000x500 with 1 Axes>"
      ]
     },
     "metadata": {},
     "output_type": "display_data"
    },
    {
     "data": {
      "image/png": "[encoded data removed]",
      "text/plain": [
       "<Figure size 5000x500 with 1 Axes>"
      ]
     },
     "metadata": {},
     "output_type": "display_data"
    },
    {
     "data": {
      "image/png": "[encoded data removed]",
      "text/plain": [
       "<Figure size 5000x500 with 1 Axes>"
      ]
     },
     "metadata": {},
     "output_type": "display_data"
    }
   ],
   "source": [
    "# Visualising each sentiment class according to the count of words\n",
    "full_title = ['Most Popular words for News tweets',\n",
    "              'Most popular words for Pro tweets',\n",
    "              'Most popular words for Neutral tweets',\n",
    "              'Most popular words for Anti tweets']\n",
    "\n",
    "tweet_list = [news_tweets, pro_tweets,\n",
    "              neutral_tweets, anti_tweets]\n",
    "\n",
    "plt.rcParams['figure.figsize'] = [50, 5]\n",
    "\n",
    "for i, sent in enumerate(tweet_list):\n",
    "    plt.subplot(1, 4, i + 1)\n",
    "    freq_dist = nltk.FreqDist(sent.split(' '))\n",
    "    df = pd.DataFrame({'Word': list(freq_dist.keys()),\n",
    "                      'Count' : list(freq_dist.values())})\n",
    "\n",
    "    df = df.nlargest(columns='Count', n=15)\n",
    "\n",
    "    ax = sns.barplot(data=df, y='Word', x='Count')\n",
    "    plt.title(full_title[i])\n",
    "    plt.show()"
   ]
  },
  {
   "cell_type": "code",
   "execution_count": 58,
   "id": "506fc6f9",
   "metadata": {},
   "outputs": [],
   "source": [
    "news_tweets = ' '.join(tweets_df.loc[tweets_df['sentiment'] == 2, 'cleaned_tweets'])\n",
    "pro_tweets = ' '.join(tweets_df.loc[tweets_df['sentiment'] == 1, 'cleaned_tweets'])\n",
    "neutral_tweets = ' '.join(tweets_df.loc[tweets_df['sentiment'] == 0, 'cleaned_tweets'])\n",
    "anti_tweets = ' '.join(tweets_df.loc[tweets_df['sentiment'] == -1, 'cleaned_tweets'])"
   ]
  },
  {
   "cell_type": "code",
   "execution_count": 59,
   "id": "a9d0fcb1",
   "metadata": {},
   "outputs": [
    {
     "data": {
      "image/png": "[encoded data removed]",
      "text/plain": [
       "<Figure size 5000x500 with 1 Axes>"
      ]
     },
     "metadata": {},
     "output_type": "display_data"
    },
    {
     "data": {
      "image/png": "[encoded data removed]",
      "text/plain": [
       "<Figure size 5000x500 with 1 Axes>"
      ]
     },
     "metadata": {},
     "output_type": "display_data"
    },
    {
     "data": {
      "image/png": "[encoded data removed]",
      "text/plain": [
       "<Figure size 5000x500 with 1 Axes>"
      ]
     },
     "metadata": {},
     "output_type": "display_data"
    },
    {
     "data": {
      "image/png": "[encoded data removed]",
      "text/plain": [
       "<Figure size 5000x500 with 1 Axes>"
      ]
     },
     "metadata": {},
     "output_type": "display_data"
    }
   ],
   "source": [
    "# Visualising each sentiment class according to the count of words\n",
    "full_title = ['Most Popular words for News tweets',\n",
    "              'Most popular words for Pro tweets',\n",
    "              'Most popular words for Neutral tweets',\n",
    "              'Most popular words for Anti tweets']\n",
    "\n",
    "tweet_list = [news_tweets, pro_tweets,\n",
    "              neutral_tweets, anti_tweets]\n",
    "\n",
    "plt.rcParams['figure.figsize'] = [50, 5]\n",
    "\n",
    "for i, sent in enumerate(tweet_list):\n",
    "    plt.subplot(1, 4, i + 1)\n",
    "    freq_dist = nltk.FreqDist(sent.split(' '))\n",
    "    df = pd.DataFrame({'Word': list(freq_dist.keys()),\n",
    "                      'Count' : list(freq_dist.values())})\n",
    "\n",
    "    df = df.nlargest(columns='Count', n=15)\n",
    "\n",
    "    ax = sns.barplot(data=df, y='Word', x='Count')\n",
    "    plt.title(full_title[i])\n",
    "    plt.show()"
   ]
  },
  {
   "cell_type": "code",
   "execution_count": 61,
   "id": "c278837f",
   "metadata": {},
   "outputs": [
    {
     "data": {
      "image/png": "[encoded data removed]",
      "text/plain": [
       "<Figure size 5000x500 with 1 Axes>"
      ]
     },
     "metadata": {},
     "output_type": "display_data"
    }
   ],
   "source": [
    "sns.countplot(x = 'sentiment', data = tweets_df, palette=\"hls\")\n",
    "plt.title(\"Distribution of sentiment\");"
   ]
  },
  {
   "cell_type": "markdown",
   "id": "21780cd0",
   "metadata": {},
   "source": [
    "# Data Preprocessing"
   ]
  },
  {
   "cell_type": "markdown",
   "id": "a65a2ab5",
   "metadata": {},
   "source": [
    "Data preprocessing is an integral step in Machine Learning as the quality of data and the useful information that can be derived from it directly affects the ability of our model to learn; therefore, it is extremely important that we preprocess our data before feeding it into our model."
   ]
  },
  {
   "cell_type": "markdown",
   "id": "a58a3a14",
   "metadata": {},
   "source": [
    "Merging the train and test dataset"
   ]
  },
  {
   "cell_type": "code",
   "execution_count": 65,
   "id": "2ba364f9",
   "metadata": {},
   "outputs": [
    {
     "data": {
      "text/html": [
       "<div>\n",
       "<style scoped>\n",
       "    .dataframe tbody tr th:only-of-type {\n",
       "        vertical-align: middle;\n",
       "    }\n",
       "\n",
       "    .dataframe tbody tr th {\n",
       "        vertical-align: top;\n",
       "    }\n",
       "\n",
       "    .dataframe thead th {\n",
       "        text-align: right;\n",
       "    }\n",
       "</style>\n",
       "<table border=\"1\" class=\"dataframe\">\n",
       "  <thead>\n",
       "    <tr style=\"text-align: right;\">\n",
       "      <th></th>\n",
       "      <th>sentiment</th>\n",
       "      <th>message</th>\n",
       "      <th>tweetid</th>\n",
       "    </tr>\n",
       "  </thead>\n",
       "  <tbody>\n",
       "    <tr>\n",
       "      <th>0</th>\n",
       "      <td>1.0</td>\n",
       "      <td>PolySciMajor EPA chief doesn't think carbon di...</td>\n",
       "      <td>625221</td>\n",
       "    </tr>\n",
       "    <tr>\n",
       "      <th>1</th>\n",
       "      <td>1.0</td>\n",
       "      <td>It's not like we lack evidence of anthropogeni...</td>\n",
       "      <td>126103</td>\n",
       "    </tr>\n",
       "    <tr>\n",
       "      <th>2</th>\n",
       "      <td>2.0</td>\n",
       "      <td>RT @RawStory: Researchers say we have three ye...</td>\n",
       "      <td>698562</td>\n",
       "    </tr>\n",
       "    <tr>\n",
       "      <th>3</th>\n",
       "      <td>1.0</td>\n",
       "      <td>#TodayinMaker# WIRED : 2016 was a pivotal year...</td>\n",
       "      <td>573736</td>\n",
       "    </tr>\n",
       "    <tr>\n",
       "      <th>4</th>\n",
       "      <td>1.0</td>\n",
       "      <td>RT @SoyNovioDeTodas: It's 2016, and a racist, ...</td>\n",
       "      <td>466954</td>\n",
       "    </tr>\n",
       "    <tr>\n",
       "      <th>...</th>\n",
       "      <td>...</td>\n",
       "      <td>...</td>\n",
       "      <td>...</td>\n",
       "    </tr>\n",
       "    <tr>\n",
       "      <th>26360</th>\n",
       "      <td>NaN</td>\n",
       "      <td>RT @BrittanyBohrer: Brb, writing a poem about ...</td>\n",
       "      <td>895714</td>\n",
       "    </tr>\n",
       "    <tr>\n",
       "      <th>26361</th>\n",
       "      <td>NaN</td>\n",
       "      <td>2016: the year climate change came home: Durin...</td>\n",
       "      <td>875167</td>\n",
       "    </tr>\n",
       "    <tr>\n",
       "      <th>26362</th>\n",
       "      <td>NaN</td>\n",
       "      <td>RT @loop_vanuatu: Pacific countries positive a...</td>\n",
       "      <td>78329</td>\n",
       "    </tr>\n",
       "    <tr>\n",
       "      <th>26363</th>\n",
       "      <td>NaN</td>\n",
       "      <td>RT @xanria_00018: You’re so hot, you must be t...</td>\n",
       "      <td>867455</td>\n",
       "    </tr>\n",
       "    <tr>\n",
       "      <th>26364</th>\n",
       "      <td>NaN</td>\n",
       "      <td>RT @chloebalaoing: climate change is a global ...</td>\n",
       "      <td>470892</td>\n",
       "    </tr>\n",
       "  </tbody>\n",
       "</table>\n",
       "<p>26365 rows × 3 columns</p>\n",
       "</div>"
      ],
      "text/plain": [
       "       sentiment                                            message  tweetid\n",
       "0            1.0  PolySciMajor EPA chief doesn't think carbon di...   625221\n",
       "1            1.0  It's not like we lack evidence of anthropogeni...   126103\n",
       "2            2.0  RT @RawStory: Researchers say we have three ye...   698562\n",
       "3            1.0  #TodayinMaker# WIRED : 2016 was a pivotal year...   573736\n",
       "4            1.0  RT @SoyNovioDeTodas: It's 2016, and a racist, ...   466954\n",
       "...          ...                                                ...      ...\n",
       "26360        NaN  RT @BrittanyBohrer: Brb, writing a poem about ...   895714\n",
       "26361        NaN  2016: the year climate change came home: Durin...   875167\n",
       "26362        NaN  RT @loop_vanuatu: Pacific countries positive a...    78329\n",
       "26363        NaN  RT @xanria_00018: You’re so hot, you must be t...   867455\n",
       "26364        NaN  RT @chloebalaoing: climate change is a global ...   470892\n",
       "\n",
       "[26365 rows x 3 columns]"
      ]
     },
     "execution_count": 65,
     "metadata": {},
     "output_type": "execute_result"
    }
   ],
   "source": [
    "# Merging both the data sets\n",
    "merged_df = Train_df.append(Test_df, \n",
    "                             ignore_index=True,\n",
    "                             sort=False)\n",
    "merged_df"
   ]
  },
  {
   "cell_type": "code",
   "execution_count": 68,
   "id": "dc7123f7",
   "metadata": {},
   "outputs": [
    {
     "name": "stdout",
     "output_type": "stream",
     "text": [
      "<class 'pandas.core.frame.DataFrame'>\n",
      "RangeIndex: 26365 entries, 0 to 26364\n",
      "Data columns (total 3 columns):\n",
      " #   Column     Non-Null Count  Dtype  \n",
      "---  ------     --------------  -----  \n",
      " 0   sentiment  15819 non-null  float64\n",
      " 1   message    26365 non-null  object \n",
      " 2   tweetid    26365 non-null  int64  \n",
      "dtypes: float64(1), int64(1), object(1)\n",
      "memory usage: 618.1+ KB\n"
     ]
    }
   ],
   "source": [
    "merged_df.info()"
   ]
  },
  {
   "cell_type": "code",
   "execution_count": 70,
   "id": "e6479bbf",
   "metadata": {},
   "outputs": [
    {
     "data": {
      "text/html": [
       "<div>\n",
       "<style scoped>\n",
       "    .dataframe tbody tr th:only-of-type {\n",
       "        vertical-align: middle;\n",
       "    }\n",
       "\n",
       "    .dataframe tbody tr th {\n",
       "        vertical-align: top;\n",
       "    }\n",
       "\n",
       "    .dataframe thead th {\n",
       "        text-align: right;\n",
       "    }\n",
       "</style>\n",
       "<table border=\"1\" class=\"dataframe\">\n",
       "  <thead>\n",
       "    <tr style=\"text-align: right;\">\n",
       "      <th></th>\n",
       "      <th>sentiment</th>\n",
       "      <th>message</th>\n",
       "      <th>tweetid</th>\n",
       "    </tr>\n",
       "  </thead>\n",
       "  <tbody>\n",
       "    <tr>\n",
       "      <th>0</th>\n",
       "      <td>False</td>\n",
       "      <td>False</td>\n",
       "      <td>False</td>\n",
       "    </tr>\n",
       "    <tr>\n",
       "      <th>1</th>\n",
       "      <td>False</td>\n",
       "      <td>False</td>\n",
       "      <td>False</td>\n",
       "    </tr>\n",
       "    <tr>\n",
       "      <th>2</th>\n",
       "      <td>False</td>\n",
       "      <td>False</td>\n",
       "      <td>False</td>\n",
       "    </tr>\n",
       "    <tr>\n",
       "      <th>3</th>\n",
       "      <td>False</td>\n",
       "      <td>False</td>\n",
       "      <td>False</td>\n",
       "    </tr>\n",
       "    <tr>\n",
       "      <th>4</th>\n",
       "      <td>False</td>\n",
       "      <td>False</td>\n",
       "      <td>False</td>\n",
       "    </tr>\n",
       "    <tr>\n",
       "      <th>...</th>\n",
       "      <td>...</td>\n",
       "      <td>...</td>\n",
       "      <td>...</td>\n",
       "    </tr>\n",
       "    <tr>\n",
       "      <th>26360</th>\n",
       "      <td>True</td>\n",
       "      <td>False</td>\n",
       "      <td>False</td>\n",
       "    </tr>\n",
       "    <tr>\n",
       "      <th>26361</th>\n",
       "      <td>True</td>\n",
       "      <td>False</td>\n",
       "      <td>False</td>\n",
       "    </tr>\n",
       "    <tr>\n",
       "      <th>26362</th>\n",
       "      <td>True</td>\n",
       "      <td>False</td>\n",
       "      <td>False</td>\n",
       "    </tr>\n",
       "    <tr>\n",
       "      <th>26363</th>\n",
       "      <td>True</td>\n",
       "      <td>False</td>\n",
       "      <td>False</td>\n",
       "    </tr>\n",
       "    <tr>\n",
       "      <th>26364</th>\n",
       "      <td>True</td>\n",
       "      <td>False</td>\n",
       "      <td>False</td>\n",
       "    </tr>\n",
       "  </tbody>\n",
       "</table>\n",
       "<p>26365 rows × 3 columns</p>\n",
       "</div>"
      ],
      "text/plain": [
       "       sentiment  message  tweetid\n",
       "0          False    False    False\n",
       "1          False    False    False\n",
       "2          False    False    False\n",
       "3          False    False    False\n",
       "4          False    False    False\n",
       "...          ...      ...      ...\n",
       "26360       True    False    False\n",
       "26361       True    False    False\n",
       "26362       True    False    False\n",
       "26363       True    False    False\n",
       "26364       True    False    False\n",
       "\n",
       "[26365 rows x 3 columns]"
      ]
     },
     "execution_count": 70,
     "metadata": {},
     "output_type": "execute_result"
    }
   ],
   "source": [
    "merged_df.isnull()"
   ]
  },
  {
   "cell_type": "code",
   "execution_count": 71,
   "id": "4883f0b0",
   "metadata": {},
   "outputs": [
    {
     "data": {
      "text/plain": [
       "sentiment    10546\n",
       "message          0\n",
       "tweetid          0\n",
       "dtype: int64"
      ]
     },
     "execution_count": 71,
     "metadata": {},
     "output_type": "execute_result"
    }
   ],
   "source": [
    "merged_df.isnull().sum()"
   ]
  },
  {
   "cell_type": "code",
   "execution_count": 75,
   "id": "91cb7ef0",
   "metadata": {},
   "outputs": [
    {
     "data": {
      "text/html": [
       "<div>\n",
       "<style scoped>\n",
       "    .dataframe tbody tr th:only-of-type {\n",
       "        vertical-align: middle;\n",
       "    }\n",
       "\n",
       "    .dataframe tbody tr th {\n",
       "        vertical-align: top;\n",
       "    }\n",
       "\n",
       "    .dataframe thead th {\n",
       "        text-align: right;\n",
       "    }\n",
       "</style>\n",
       "<table border=\"1\" class=\"dataframe\">\n",
       "  <thead>\n",
       "    <tr style=\"text-align: right;\">\n",
       "      <th></th>\n",
       "      <th>sentiment</th>\n",
       "      <th>message</th>\n",
       "      <th>tweetid</th>\n",
       "    </tr>\n",
       "  </thead>\n",
       "  <tbody>\n",
       "    <tr>\n",
       "      <th>0</th>\n",
       "      <td>1.0</td>\n",
       "      <td>PolySciMajor EPA chief doesn't think carbon di...</td>\n",
       "      <td>625221</td>\n",
       "    </tr>\n",
       "    <tr>\n",
       "      <th>1</th>\n",
       "      <td>1.0</td>\n",
       "      <td>It's not like we lack evidence of anthropogeni...</td>\n",
       "      <td>126103</td>\n",
       "    </tr>\n",
       "    <tr>\n",
       "      <th>2</th>\n",
       "      <td>2.0</td>\n",
       "      <td>RT @RawStory: Researchers say we have three ye...</td>\n",
       "      <td>698562</td>\n",
       "    </tr>\n",
       "    <tr>\n",
       "      <th>3</th>\n",
       "      <td>1.0</td>\n",
       "      <td>#TodayinMaker# WIRED : 2016 was a pivotal year...</td>\n",
       "      <td>573736</td>\n",
       "    </tr>\n",
       "    <tr>\n",
       "      <th>4</th>\n",
       "      <td>1.0</td>\n",
       "      <td>RT @SoyNovioDeTodas: It's 2016, and a racist, ...</td>\n",
       "      <td>466954</td>\n",
       "    </tr>\n",
       "    <tr>\n",
       "      <th>...</th>\n",
       "      <td>...</td>\n",
       "      <td>...</td>\n",
       "      <td>...</td>\n",
       "    </tr>\n",
       "    <tr>\n",
       "      <th>15814</th>\n",
       "      <td>1.0</td>\n",
       "      <td>RT @ezlusztig: They took down the material on ...</td>\n",
       "      <td>22001</td>\n",
       "    </tr>\n",
       "    <tr>\n",
       "      <th>15815</th>\n",
       "      <td>2.0</td>\n",
       "      <td>RT @washingtonpost: How climate change could b...</td>\n",
       "      <td>17856</td>\n",
       "    </tr>\n",
       "    <tr>\n",
       "      <th>15816</th>\n",
       "      <td>0.0</td>\n",
       "      <td>notiven: RT: nytimesworld :What does Trump act...</td>\n",
       "      <td>384248</td>\n",
       "    </tr>\n",
       "    <tr>\n",
       "      <th>15817</th>\n",
       "      <td>-1.0</td>\n",
       "      <td>RT @sara8smiles: Hey liberals the climate chan...</td>\n",
       "      <td>819732</td>\n",
       "    </tr>\n",
       "    <tr>\n",
       "      <th>15818</th>\n",
       "      <td>0.0</td>\n",
       "      <td>RT @Chet_Cannon: .@kurteichenwald's 'climate c...</td>\n",
       "      <td>806319</td>\n",
       "    </tr>\n",
       "  </tbody>\n",
       "</table>\n",
       "<p>15819 rows × 3 columns</p>\n",
       "</div>"
      ],
      "text/plain": [
       "       sentiment                                            message  tweetid\n",
       "0            1.0  PolySciMajor EPA chief doesn't think carbon di...   625221\n",
       "1            1.0  It's not like we lack evidence of anthropogeni...   126103\n",
       "2            2.0  RT @RawStory: Researchers say we have three ye...   698562\n",
       "3            1.0  #TodayinMaker# WIRED : 2016 was a pivotal year...   573736\n",
       "4            1.0  RT @SoyNovioDeTodas: It's 2016, and a racist, ...   466954\n",
       "...          ...                                                ...      ...\n",
       "15814        1.0  RT @ezlusztig: They took down the material on ...    22001\n",
       "15815        2.0  RT @washingtonpost: How climate change could b...    17856\n",
       "15816        0.0  notiven: RT: nytimesworld :What does Trump act...   384248\n",
       "15817       -1.0  RT @sara8smiles: Hey liberals the climate chan...   819732\n",
       "15818        0.0  RT @Chet_Cannon: .@kurteichenwald's 'climate c...   806319\n",
       "\n",
       "[15819 rows x 3 columns]"
      ]
     },
     "execution_count": 75,
     "metadata": {},
     "output_type": "execute_result"
    }
   ],
   "source": [
    "merged_df.dropna()"
   ]
  },
  {
   "cell_type": "markdown",
   "id": "b87441d5",
   "metadata": {},
   "source": [
    "Removing HTMLs"
   ]
  },
  {
   "cell_type": "code",
   "execution_count": 81,
   "id": "ea954768",
   "metadata": {},
   "outputs": [
    {
     "data": {
      "text/html": [
       "<div>\n",
       "<style scoped>\n",
       "    .dataframe tbody tr th:only-of-type {\n",
       "        vertical-align: middle;\n",
       "    }\n",
       "\n",
       "    .dataframe tbody tr th {\n",
       "        vertical-align: top;\n",
       "    }\n",
       "\n",
       "    .dataframe thead th {\n",
       "        text-align: right;\n",
       "    }\n",
       "</style>\n",
       "<table border=\"1\" class=\"dataframe\">\n",
       "  <thead>\n",
       "    <tr style=\"text-align: right;\">\n",
       "      <th></th>\n",
       "      <th>sentiment</th>\n",
       "      <th>message</th>\n",
       "      <th>tweetid</th>\n",
       "      <th>clean_message</th>\n",
       "      <th>filtered_message</th>\n",
       "      <th>filtered</th>\n",
       "    </tr>\n",
       "  </thead>\n",
       "  <tbody>\n",
       "    <tr>\n",
       "      <th>0</th>\n",
       "      <td>1.0</td>\n",
       "      <td>PolySciMajor EPA chief doesn't think carbon di...</td>\n",
       "      <td>625221</td>\n",
       "      <td>PolySciMajor EPA chief doesn't think carbon di...</td>\n",
       "      <td>PolySciMajor EPA chief doesn't think carbon di...</td>\n",
       "      <td>PolySciMajor EPA chief doesn't think carbon di...</td>\n",
       "    </tr>\n",
       "    <tr>\n",
       "      <th>1</th>\n",
       "      <td>1.0</td>\n",
       "      <td>It's not like we lack evidence of anthropogeni...</td>\n",
       "      <td>126103</td>\n",
       "      <td>It's not like we lack evidence of anthropogeni...</td>\n",
       "      <td>It's not like we lack evidence of anthropogeni...</td>\n",
       "      <td>It's not like we lack evidence of anthropogeni...</td>\n",
       "    </tr>\n",
       "    <tr>\n",
       "      <th>2</th>\n",
       "      <td>2.0</td>\n",
       "      <td>RT @RawStory: Researchers say we have three ye...</td>\n",
       "      <td>698562</td>\n",
       "      <td>RT @RawStory: Researchers say we have three ye...</td>\n",
       "      <td>RT @RawStory: Researchers say we have three ye...</td>\n",
       "      <td>RT @RawStory: Researchers say we have three ye...</td>\n",
       "    </tr>\n",
       "    <tr>\n",
       "      <th>3</th>\n",
       "      <td>1.0</td>\n",
       "      <td>#TodayinMaker# WIRED : 2016 was a pivotal year...</td>\n",
       "      <td>573736</td>\n",
       "      <td>#TodayinMaker# WIRED : 2016 was a pivotal year...</td>\n",
       "      <td>#TodayinMaker# WIRED : 2016 was a pivotal year...</td>\n",
       "      <td>#TodayinMaker# WIRED : 2016 was a pivotal year...</td>\n",
       "    </tr>\n",
       "    <tr>\n",
       "      <th>4</th>\n",
       "      <td>1.0</td>\n",
       "      <td>RT @SoyNovioDeTodas: It's 2016, and a racist, ...</td>\n",
       "      <td>466954</td>\n",
       "      <td>RT @SoyNovioDeTodas: It's 2016, and a racist, ...</td>\n",
       "      <td>RT @SoyNovioDeTodas: It's 2016, and a racist, ...</td>\n",
       "      <td>RT @SoyNovioDeTodas: It's 2016, and a racist, ...</td>\n",
       "    </tr>\n",
       "  </tbody>\n",
       "</table>\n",
       "</div>"
      ],
      "text/plain": [
       "   sentiment                                            message  tweetid  \\\n",
       "0        1.0  PolySciMajor EPA chief doesn't think carbon di...   625221   \n",
       "1        1.0  It's not like we lack evidence of anthropogeni...   126103   \n",
       "2        2.0  RT @RawStory: Researchers say we have three ye...   698562   \n",
       "3        1.0  #TodayinMaker# WIRED : 2016 was a pivotal year...   573736   \n",
       "4        1.0  RT @SoyNovioDeTodas: It's 2016, and a racist, ...   466954   \n",
       "\n",
       "                                       clean_message  \\\n",
       "0  PolySciMajor EPA chief doesn't think carbon di...   \n",
       "1  It's not like we lack evidence of anthropogeni...   \n",
       "2  RT @RawStory: Researchers say we have three ye...   \n",
       "3  #TodayinMaker# WIRED : 2016 was a pivotal year...   \n",
       "4  RT @SoyNovioDeTodas: It's 2016, and a racist, ...   \n",
       "\n",
       "                                    filtered_message  \\\n",
       "0  PolySciMajor EPA chief doesn't think carbon di...   \n",
       "1  It's not like we lack evidence of anthropogeni...   \n",
       "2  RT @RawStory: Researchers say we have three ye...   \n",
       "3  #TodayinMaker# WIRED : 2016 was a pivotal year...   \n",
       "4  RT @SoyNovioDeTodas: It's 2016, and a racist, ...   \n",
       "\n",
       "                                            filtered  \n",
       "0  PolySciMajor EPA chief doesn't think carbon di...  \n",
       "1  It's not like we lack evidence of anthropogeni...  \n",
       "2  RT @RawStory: Researchers say we have three ye...  \n",
       "3  #TodayinMaker# WIRED : 2016 was a pivotal year...  \n",
       "4  RT @SoyNovioDeTodas: It's 2016, and a racist, ...  "
      ]
     },
     "execution_count": 81,
     "metadata": {},
     "output_type": "execute_result"
    }
   ],
   "source": [
    "from html import unescape\n",
    "# Created a new column 'clean_message' containing the tweets with HTML entities removed\n",
    "merged_df['clean_message'] = merged_df['message'].apply(lambda x: unescape(x))\n",
    "merged_df.head()"
   ]
  },
  {
   "cell_type": "code",
   "execution_count": 83,
   "id": "0eac4fac",
   "metadata": {},
   "outputs": [],
   "source": [
    "merged_df = merged_df.drop(columns=['filtered_message', 'filtered'])"
   ]
  },
  {
   "cell_type": "code",
   "execution_count": 85,
   "id": "702c83e6",
   "metadata": {},
   "outputs": [
    {
     "data": {
      "text/html": [
       "<div>\n",
       "<style scoped>\n",
       "    .dataframe tbody tr th:only-of-type {\n",
       "        vertical-align: middle;\n",
       "    }\n",
       "\n",
       "    .dataframe tbody tr th {\n",
       "        vertical-align: top;\n",
       "    }\n",
       "\n",
       "    .dataframe thead th {\n",
       "        text-align: right;\n",
       "    }\n",
       "</style>\n",
       "<table border=\"1\" class=\"dataframe\">\n",
       "  <thead>\n",
       "    <tr style=\"text-align: right;\">\n",
       "      <th></th>\n",
       "      <th>sentiment</th>\n",
       "      <th>message</th>\n",
       "      <th>tweetid</th>\n",
       "      <th>clean_message</th>\n",
       "    </tr>\n",
       "  </thead>\n",
       "  <tbody>\n",
       "    <tr>\n",
       "      <th>0</th>\n",
       "      <td>1.0</td>\n",
       "      <td>PolySciMajor EPA chief doesn't think carbon di...</td>\n",
       "      <td>625221</td>\n",
       "      <td>polyscimajor epa chief doesn't think carbon di...</td>\n",
       "    </tr>\n",
       "    <tr>\n",
       "      <th>1</th>\n",
       "      <td>1.0</td>\n",
       "      <td>It's not like we lack evidence of anthropogeni...</td>\n",
       "      <td>126103</td>\n",
       "      <td>it's not like we lack evidence of anthropogeni...</td>\n",
       "    </tr>\n",
       "    <tr>\n",
       "      <th>2</th>\n",
       "      <td>2.0</td>\n",
       "      <td>RT @RawStory: Researchers say we have three ye...</td>\n",
       "      <td>698562</td>\n",
       "      <td>rt @rawstory: researchers say we have three ye...</td>\n",
       "    </tr>\n",
       "    <tr>\n",
       "      <th>3</th>\n",
       "      <td>1.0</td>\n",
       "      <td>#TodayinMaker# WIRED : 2016 was a pivotal year...</td>\n",
       "      <td>573736</td>\n",
       "      <td>#todayinmaker# wired : 2016 was a pivotal year...</td>\n",
       "    </tr>\n",
       "    <tr>\n",
       "      <th>4</th>\n",
       "      <td>1.0</td>\n",
       "      <td>RT @SoyNovioDeTodas: It's 2016, and a racist, ...</td>\n",
       "      <td>466954</td>\n",
       "      <td>rt @soynoviodetodas: it's 2016, and a racist, ...</td>\n",
       "    </tr>\n",
       "  </tbody>\n",
       "</table>\n",
       "</div>"
      ],
      "text/plain": [
       "   sentiment                                            message  tweetid  \\\n",
       "0        1.0  PolySciMajor EPA chief doesn't think carbon di...   625221   \n",
       "1        1.0  It's not like we lack evidence of anthropogeni...   126103   \n",
       "2        2.0  RT @RawStory: Researchers say we have three ye...   698562   \n",
       "3        1.0  #TodayinMaker# WIRED : 2016 was a pivotal year...   573736   \n",
       "4        1.0  RT @SoyNovioDeTodas: It's 2016, and a racist, ...   466954   \n",
       "\n",
       "                                       clean_message  \n",
       "0  polyscimajor epa chief doesn't think carbon di...  \n",
       "1  it's not like we lack evidence of anthropogeni...  \n",
       "2  rt @rawstory: researchers say we have three ye...  \n",
       "3  #todayinmaker# wired : 2016 was a pivotal year...  \n",
       "4  rt @soynoviodetodas: it's 2016, and a racist, ...  "
      ]
     },
     "execution_count": 85,
     "metadata": {},
     "output_type": "execute_result"
    }
   ],
   "source": [
    "merged_df['clean_message'] = merged_df['clean_message'].apply(lambda x: x.lower())\n",
    "merged_df.head()"
   ]
  },
  {
   "cell_type": "code",
   "execution_count": 86,
   "id": "1b865b91",
   "metadata": {},
   "outputs": [
    {
     "data": {
      "text/html": [
       "<div>\n",
       "<style scoped>\n",
       "    .dataframe tbody tr th:only-of-type {\n",
       "        vertical-align: middle;\n",
       "    }\n",
       "\n",
       "    .dataframe tbody tr th {\n",
       "        vertical-align: top;\n",
       "    }\n",
       "\n",
       "    .dataframe thead th {\n",
       "        text-align: right;\n",
       "    }\n",
       "</style>\n",
       "<table border=\"1\" class=\"dataframe\">\n",
       "  <thead>\n",
       "    <tr style=\"text-align: right;\">\n",
       "      <th></th>\n",
       "      <th>sentiment</th>\n",
       "      <th>message</th>\n",
       "      <th>tweetid</th>\n",
       "      <th>clean_message</th>\n",
       "      <th>token</th>\n",
       "    </tr>\n",
       "  </thead>\n",
       "  <tbody>\n",
       "    <tr>\n",
       "      <th>0</th>\n",
       "      <td>1.0</td>\n",
       "      <td>PolySciMajor EPA chief doesn't think carbon di...</td>\n",
       "      <td>625221</td>\n",
       "      <td>polyscimajor epa chief doesn't think carbon di...</td>\n",
       "      <td>[polyscimajor, epa, chief, does, n't, think, c...</td>\n",
       "    </tr>\n",
       "    <tr>\n",
       "      <th>1</th>\n",
       "      <td>1.0</td>\n",
       "      <td>It's not like we lack evidence of anthropogeni...</td>\n",
       "      <td>126103</td>\n",
       "      <td>it's not like we lack evidence of anthropogeni...</td>\n",
       "      <td>[it, 's, not, like, we, lack, evidence, of, an...</td>\n",
       "    </tr>\n",
       "    <tr>\n",
       "      <th>2</th>\n",
       "      <td>2.0</td>\n",
       "      <td>RT @RawStory: Researchers say we have three ye...</td>\n",
       "      <td>698562</td>\n",
       "      <td>rt @rawstory: researchers say we have three ye...</td>\n",
       "      <td>[rt, @, rawstory, :, researchers, say, we, hav...</td>\n",
       "    </tr>\n",
       "    <tr>\n",
       "      <th>3</th>\n",
       "      <td>1.0</td>\n",
       "      <td>#TodayinMaker# WIRED : 2016 was a pivotal year...</td>\n",
       "      <td>573736</td>\n",
       "      <td>#todayinmaker# wired : 2016 was a pivotal year...</td>\n",
       "      <td>[#, todayinmaker, #, wired, :, 2016, was, a, p...</td>\n",
       "    </tr>\n",
       "    <tr>\n",
       "      <th>4</th>\n",
       "      <td>1.0</td>\n",
       "      <td>RT @SoyNovioDeTodas: It's 2016, and a racist, ...</td>\n",
       "      <td>466954</td>\n",
       "      <td>rt @soynoviodetodas: it's 2016, and a racist, ...</td>\n",
       "      <td>[rt, @, soynoviodetodas, :, it, 's, 2016, ,, a...</td>\n",
       "    </tr>\n",
       "  </tbody>\n",
       "</table>\n",
       "</div>"
      ],
      "text/plain": [
       "   sentiment                                            message  tweetid  \\\n",
       "0        1.0  PolySciMajor EPA chief doesn't think carbon di...   625221   \n",
       "1        1.0  It's not like we lack evidence of anthropogeni...   126103   \n",
       "2        2.0  RT @RawStory: Researchers say we have three ye...   698562   \n",
       "3        1.0  #TodayinMaker# WIRED : 2016 was a pivotal year...   573736   \n",
       "4        1.0  RT @SoyNovioDeTodas: It's 2016, and a racist, ...   466954   \n",
       "\n",
       "                                       clean_message  \\\n",
       "0  polyscimajor epa chief doesn't think carbon di...   \n",
       "1  it's not like we lack evidence of anthropogeni...   \n",
       "2  rt @rawstory: researchers say we have three ye...   \n",
       "3  #todayinmaker# wired : 2016 was a pivotal year...   \n",
       "4  rt @soynoviodetodas: it's 2016, and a racist, ...   \n",
       "\n",
       "                                               token  \n",
       "0  [polyscimajor, epa, chief, does, n't, think, c...  \n",
       "1  [it, 's, not, like, we, lack, evidence, of, an...  \n",
       "2  [rt, @, rawstory, :, researchers, say, we, hav...  \n",
       "3  [#, todayinmaker, #, wired, :, 2016, was, a, p...  \n",
       "4  [rt, @, soynoviodetodas, :, it, 's, 2016, ,, a...  "
      ]
     },
     "execution_count": 86,
     "metadata": {},
     "output_type": "execute_result"
    }
   ],
   "source": [
    "# Creating token for the clean tweets\n",
    "merged_df['token'] = merged_df['clean_message'].apply(lambda x: word_tokenize(x))\n",
    "\n",
    "## Fully formated tweets & there tokens\n",
    "merged_df.head()"
   ]
  },
  {
   "cell_type": "code",
   "execution_count": 89,
   "id": "6a0d245b",
   "metadata": {},
   "outputs": [],
   "source": [
    "# Importing stop words from NLTK corpus for english language\n",
    "stop_words = set(stopwords.words('english'))"
   ]
  },
  {
   "cell_type": "code",
   "execution_count": 91,
   "id": "804ade60",
   "metadata": {},
   "outputs": [
    {
     "data": {
      "text/html": [
       "<div>\n",
       "<style scoped>\n",
       "    .dataframe tbody tr th:only-of-type {\n",
       "        vertical-align: middle;\n",
       "    }\n",
       "\n",
       "    .dataframe tbody tr th {\n",
       "        vertical-align: top;\n",
       "    }\n",
       "\n",
       "    .dataframe thead th {\n",
       "        text-align: right;\n",
       "    }\n",
       "</style>\n",
       "<table border=\"1\" class=\"dataframe\">\n",
       "  <thead>\n",
       "    <tr style=\"text-align: right;\">\n",
       "      <th></th>\n",
       "      <th>token</th>\n",
       "      <th>token_filtered</th>\n",
       "    </tr>\n",
       "  </thead>\n",
       "  <tbody>\n",
       "    <tr>\n",
       "      <th>0</th>\n",
       "      <td>[polyscimajor, epa, chief, does, n't, think, c...</td>\n",
       "      <td>[polyscimajor, epa, chief, n't, think, carbon,...</td>\n",
       "    </tr>\n",
       "    <tr>\n",
       "      <th>1</th>\n",
       "      <td>[it, 's, not, like, we, lack, evidence, of, an...</td>\n",
       "      <td>['s, like, lack, evidence, anthropogenic, glob...</td>\n",
       "    </tr>\n",
       "    <tr>\n",
       "      <th>2</th>\n",
       "      <td>[rt, @, rawstory, :, researchers, say, we, hav...</td>\n",
       "      <td>[rt, @, rawstory, :, researchers, say, three, ...</td>\n",
       "    </tr>\n",
       "    <tr>\n",
       "      <th>3</th>\n",
       "      <td>[#, todayinmaker, #, wired, :, 2016, was, a, p...</td>\n",
       "      <td>[#, todayinmaker, #, wired, :, 2016, pivotal, ...</td>\n",
       "    </tr>\n",
       "    <tr>\n",
       "      <th>4</th>\n",
       "      <td>[rt, @, soynoviodetodas, :, it, 's, 2016, ,, a...</td>\n",
       "      <td>[rt, @, soynoviodetodas, :, 's, 2016, ,, racis...</td>\n",
       "    </tr>\n",
       "  </tbody>\n",
       "</table>\n",
       "</div>"
      ],
      "text/plain": [
       "                                               token  \\\n",
       "0  [polyscimajor, epa, chief, does, n't, think, c...   \n",
       "1  [it, 's, not, like, we, lack, evidence, of, an...   \n",
       "2  [rt, @, rawstory, :, researchers, say, we, hav...   \n",
       "3  [#, todayinmaker, #, wired, :, 2016, was, a, p...   \n",
       "4  [rt, @, soynoviodetodas, :, it, 's, 2016, ,, a...   \n",
       "\n",
       "                                      token_filtered  \n",
       "0  [polyscimajor, epa, chief, n't, think, carbon,...  \n",
       "1  ['s, like, lack, evidence, anthropogenic, glob...  \n",
       "2  [rt, @, rawstory, :, researchers, say, three, ...  \n",
       "3  [#, todayinmaker, #, wired, :, 2016, pivotal, ...  \n",
       "4  [rt, @, soynoviodetodas, :, 's, 2016, ,, racis...  "
      ]
     },
     "execution_count": 91,
     "metadata": {},
     "output_type": "execute_result"
    }
   ],
   "source": [
    "# Created new columns of tokens without stop words\n",
    "merged_df['token_filtered'] = merged_df['token'\n",
    "                                               ].apply(lambda x:[word for word in x if not word in stop_words])\n",
    "\n",
    "# Tokenized columns with stop words and without stop words\n",
    "merged_df[['token', 'token_filtered']].head()"
   ]
  },
  {
   "cell_type": "code",
   "execution_count": 92,
   "id": "f91d4c3c",
   "metadata": {},
   "outputs": [
    {
     "data": {
      "text/html": [
       "<div>\n",
       "<style scoped>\n",
       "    .dataframe tbody tr th:only-of-type {\n",
       "        vertical-align: middle;\n",
       "    }\n",
       "\n",
       "    .dataframe tbody tr th {\n",
       "        vertical-align: top;\n",
       "    }\n",
       "\n",
       "    .dataframe thead th {\n",
       "        text-align: right;\n",
       "    }\n",
       "</style>\n",
       "<table border=\"1\" class=\"dataframe\">\n",
       "  <thead>\n",
       "    <tr style=\"text-align: right;\">\n",
       "      <th></th>\n",
       "      <th>sentiment</th>\n",
       "      <th>message</th>\n",
       "      <th>tweetid</th>\n",
       "      <th>clean_message</th>\n",
       "      <th>token</th>\n",
       "      <th>token_filtered</th>\n",
       "      <th>tweet_stemmed</th>\n",
       "    </tr>\n",
       "  </thead>\n",
       "  <tbody>\n",
       "    <tr>\n",
       "      <th>0</th>\n",
       "      <td>1.0</td>\n",
       "      <td>PolySciMajor EPA chief doesn't think carbon di...</td>\n",
       "      <td>625221</td>\n",
       "      <td>polyscimajor epa chief doesn't think carbon di...</td>\n",
       "      <td>[polyscimajor, epa, chief, does, n't, think, c...</td>\n",
       "      <td>[polyscimajor, epa, chief, n't, think, carbon,...</td>\n",
       "      <td>polyscimajor epa chief n't think carbon dioxid...</td>\n",
       "    </tr>\n",
       "    <tr>\n",
       "      <th>1</th>\n",
       "      <td>1.0</td>\n",
       "      <td>It's not like we lack evidence of anthropogeni...</td>\n",
       "      <td>126103</td>\n",
       "      <td>it's not like we lack evidence of anthropogeni...</td>\n",
       "      <td>[it, 's, not, like, we, lack, evidence, of, an...</td>\n",
       "      <td>['s, like, lack, evidence, anthropogenic, glob...</td>\n",
       "      <td>'s like lack evid anthropogen global warm</td>\n",
       "    </tr>\n",
       "    <tr>\n",
       "      <th>2</th>\n",
       "      <td>2.0</td>\n",
       "      <td>RT @RawStory: Researchers say we have three ye...</td>\n",
       "      <td>698562</td>\n",
       "      <td>rt @rawstory: researchers say we have three ye...</td>\n",
       "      <td>[rt, @, rawstory, :, researchers, say, we, hav...</td>\n",
       "      <td>[rt, @, rawstory, :, researchers, say, three, ...</td>\n",
       "      <td>rt @ rawstori : research say three year act cl...</td>\n",
       "    </tr>\n",
       "    <tr>\n",
       "      <th>3</th>\n",
       "      <td>1.0</td>\n",
       "      <td>#TodayinMaker# WIRED : 2016 was a pivotal year...</td>\n",
       "      <td>573736</td>\n",
       "      <td>#todayinmaker# wired : 2016 was a pivotal year...</td>\n",
       "      <td>[#, todayinmaker, #, wired, :, 2016, was, a, p...</td>\n",
       "      <td>[#, todayinmaker, #, wired, :, 2016, pivotal, ...</td>\n",
       "      <td># todayinmak # wire : 2016 pivot year war clim...</td>\n",
       "    </tr>\n",
       "    <tr>\n",
       "      <th>4</th>\n",
       "      <td>1.0</td>\n",
       "      <td>RT @SoyNovioDeTodas: It's 2016, and a racist, ...</td>\n",
       "      <td>466954</td>\n",
       "      <td>rt @soynoviodetodas: it's 2016, and a racist, ...</td>\n",
       "      <td>[rt, @, soynoviodetodas, :, it, 's, 2016, ,, a...</td>\n",
       "      <td>[rt, @, soynoviodetodas, :, 's, 2016, ,, racis...</td>\n",
       "      <td>rt @ soynoviodetoda : 's 2016 , racist , sexis...</td>\n",
       "    </tr>\n",
       "  </tbody>\n",
       "</table>\n",
       "</div>"
      ],
      "text/plain": [
       "   sentiment                                            message  tweetid  \\\n",
       "0        1.0  PolySciMajor EPA chief doesn't think carbon di...   625221   \n",
       "1        1.0  It's not like we lack evidence of anthropogeni...   126103   \n",
       "2        2.0  RT @RawStory: Researchers say we have three ye...   698562   \n",
       "3        1.0  #TodayinMaker# WIRED : 2016 was a pivotal year...   573736   \n",
       "4        1.0  RT @SoyNovioDeTodas: It's 2016, and a racist, ...   466954   \n",
       "\n",
       "                                       clean_message  \\\n",
       "0  polyscimajor epa chief doesn't think carbon di...   \n",
       "1  it's not like we lack evidence of anthropogeni...   \n",
       "2  rt @rawstory: researchers say we have three ye...   \n",
       "3  #todayinmaker# wired : 2016 was a pivotal year...   \n",
       "4  rt @soynoviodetodas: it's 2016, and a racist, ...   \n",
       "\n",
       "                                               token  \\\n",
       "0  [polyscimajor, epa, chief, does, n't, think, c...   \n",
       "1  [it, 's, not, like, we, lack, evidence, of, an...   \n",
       "2  [rt, @, rawstory, :, researchers, say, we, hav...   \n",
       "3  [#, todayinmaker, #, wired, :, 2016, was, a, p...   \n",
       "4  [rt, @, soynoviodetodas, :, it, 's, 2016, ,, a...   \n",
       "\n",
       "                                      token_filtered  \\\n",
       "0  [polyscimajor, epa, chief, n't, think, carbon,...   \n",
       "1  ['s, like, lack, evidence, anthropogenic, glob...   \n",
       "2  [rt, @, rawstory, :, researchers, say, three, ...   \n",
       "3  [#, todayinmaker, #, wired, :, 2016, pivotal, ...   \n",
       "4  [rt, @, soynoviodetodas, :, 's, 2016, ,, racis...   \n",
       "\n",
       "                                       tweet_stemmed  \n",
       "0  polyscimajor epa chief n't think carbon dioxid...  \n",
       "1          's like lack evid anthropogen global warm  \n",
       "2  rt @ rawstori : research say three year act cl...  \n",
       "3  # todayinmak # wire : 2016 pivot year war clim...  \n",
       "4  rt @ soynoviodetoda : 's 2016 , racist , sexis...  "
      ]
     },
     "execution_count": 92,
     "metadata": {},
     "output_type": "execute_result"
    }
   ],
   "source": [
    "# Created one more columns tweet_stemmed\n",
    "stemming = PorterStemmer()\n",
    "merged_df['tweet_stemmed'] = merged_df['token_filtered'].apply(lambda x: ' '.join([stemming.stem(i) for i in x]))\n",
    "merged_df.head()"
   ]
  },
  {
   "cell_type": "markdown",
   "id": "93194150",
   "metadata": {},
   "source": [
    "# Feature Engineering"
   ]
  },
  {
   "cell_type": "markdown",
   "id": "50bca5f6",
   "metadata": {},
   "source": [
    "Feature Engineering is the process of creating new features or transforming existing features to improve the performance of a machine-learning model. It involves selecting relevant information from raw data and transforming it into a format that can be easily understood by a model. The goal is to improve model accuracy by providing more meaningful and relevant information.\n"
   ]
  },
  {
   "cell_type": "code",
   "execution_count": 104,
   "id": "6936a1a9",
   "metadata": {},
   "outputs": [],
   "source": [
    "# Splitting the data into train & test\n",
    "train_stemmed = merged_df[:15819]\n",
    "test_stemmed = merged_df[15819:].drop(['sentiment'], axis=1)\n"
   ]
  },
  {
   "cell_type": "code",
   "execution_count": 105,
   "id": "7d175e6d",
   "metadata": {},
   "outputs": [],
   "source": [
    "# Setting the parameters for the Vectorizer\n",
    "\n",
    "vectorizer = CountVectorizer(analyzer = 'word', \n",
    "                             tokenizer = None, \n",
    "                             preprocessor = None, \n",
    "                             stop_words = None, \n",
    "                             max_features = 180000,\n",
    "                             min_df = 1,\n",
    "                             ngram_range = (1,2)\n",
    "                            )"
   ]
  },
  {
   "cell_type": "code",
   "execution_count": 106,
   "id": "e1a3d44c",
   "metadata": {},
   "outputs": [],
   "source": [
    "# Building a Pipeline for word vectorization\n",
    "pipe = Pipeline( [('vect', vectorizer)] )"
   ]
  },
  {
   "cell_type": "code",
   "execution_count": 107,
   "id": "0a9aa05c",
   "metadata": {},
   "outputs": [],
   "source": [
    "# Fitting & transforming the data\n",
    "train_vect = pipe.fit_transform(train_stemmed['tweet_stemmed'])\n",
    "test_vect = pipe.transform(test_stemmed['tweet_stemmed'])"
   ]
  },
  {
   "cell_type": "markdown",
   "id": "91f68619",
   "metadata": {},
   "source": [
    "Inspecting the shape of our vectorized data"
   ]
  },
  {
   "cell_type": "code",
   "execution_count": 108,
   "id": "7299c5f1",
   "metadata": {},
   "outputs": [
    {
     "data": {
      "text/plain": [
       "(10546, 126611)"
      ]
     },
     "execution_count": 108,
     "metadata": {},
     "output_type": "execute_result"
    }
   ],
   "source": [
    "test_vect.shape"
   ]
  },
  {
   "cell_type": "code",
   "execution_count": 109,
   "id": "a52853e0",
   "metadata": {},
   "outputs": [
    {
     "data": {
      "text/plain": [
       "(15819, 126611)"
      ]
     },
     "execution_count": 109,
     "metadata": {},
     "output_type": "execute_result"
    }
   ],
   "source": [
    "train_vect.shape"
   ]
  },
  {
   "cell_type": "markdown",
   "id": "2b6a4d15",
   "metadata": {},
   "source": [
    "# Modeling"
   ]
  },
  {
   "cell_type": "markdown",
   "id": "a5650b44",
   "metadata": {},
   "source": [
    "This setup is typical for machine learning tasks where text data is vectorized using techniques like TF-IDF or word embeddings before being fed into a model for training. The sentiment labels are then used as the target variable for training a classification model."
   ]
  },
  {
   "cell_type": "code",
   "execution_count": 110,
   "id": "4baca463",
   "metadata": {},
   "outputs": [
    {
     "name": "stdout",
     "output_type": "stream",
     "text": [
      "Shape of train_vect: (15819, 126611)\n",
      "Shape of Train_df['sentiment']: (15819,)\n"
     ]
    }
   ],
   "source": [
    "print(\"Shape of train_vect:\", train_vect.shape)\n",
    "print(\"Shape of Train_df['sentiment']:\", Train_df['sentiment'].shape)"
   ]
  },
  {
   "cell_type": "markdown",
   "id": "0793b91b",
   "metadata": {},
   "source": [
    "\n",
    "Split the dataset into training and validation sets to train and evaluate the model's performance."
   ]
  },
  {
   "cell_type": "code",
   "execution_count": 111,
   "id": "7bc4056f",
   "metadata": {},
   "outputs": [],
   "source": [
    "# Splitting the data into train & test sets\n",
    "X_train, X_test, y_train, y_test = train_test_split(train_vect, Train_df['sentiment'],\n",
    "                                                    test_size = 0.2, random_state=42,\n",
    "                                                    stratify=Train_df['sentiment'])"
   ]
  },
  {
   "cell_type": "code",
   "execution_count": 115,
   "id": "1df5e1b1",
   "metadata": {},
   "outputs": [],
   "source": [
    "# These are the different Classification models we will train our data on\n",
    "# Creating a list of names so we can print metrics for the entire list at once\n",
    "names = ['Logistic Regression'\n",
    "         ,'Nearest Neighbors'\n",
    "         ,'Linear SVC'\n",
    "         , 'RBF SVC'\n",
    "         , 'Linear SVM'\n",
    "         , 'Decision Tree'\n",
    "         , 'Random Forest'\n",
    "         ,  'AdaBoost'\n",
    "]"
   ]
  },
  {
   "cell_type": "code",
   "execution_count": 116,
   "id": "a8ba0dda",
   "metadata": {},
   "outputs": [],
   "source": [
    "# These are the different Classification models we will train our data on\n",
    "# Creating a list of names so we can print metrics for the entire list at once\n",
    "classifiers = [\n",
    "    LogisticRegression()\n",
    "    , KNeighborsClassifier(3)\n",
    "    , SVC(kernel=\"linear\", C=0.025)\n",
    "    , SVC(gamma=2, C=1)\n",
    "    , LinearSVC()\n",
    "    , DecisionTreeClassifier(max_depth=5)\n",
    "    , RandomForestClassifier(max_depth=5, n_estimators=10, max_features=1)\n",
    "    , AdaBoostClassifier()\n",
    "]"
   ]
  },
  {
   "cell_type": "code",
   "execution_count": 117,
   "id": "12a982d0",
   "metadata": {},
   "outputs": [
    {
     "name": "stdout",
     "output_type": "stream",
     "text": [
      "Fitting Logistic Regression model...\n"
     ]
    },
    {
     "name": "stderr",
     "output_type": "stream",
     "text": [
      "C:\\ProgramData\\Anaconda3\\lib\\site-packages\\sklearn\\linear_model\\_logistic.py:814: ConvergenceWarning: lbfgs failed to converge (status=1):\n",
      "STOP: TOTAL NO. of ITERATIONS REACHED LIMIT.\n",
      "\n",
      "Increase the number of iterations (max_iter) or scale the data as shown in:\n",
      "    https://scikit-learn.org/stable/modules/preprocessing.html\n",
      "Please also refer to the documentation for alternative solver options:\n",
      "    https://scikit-learn.org/stable/modules/linear_model.html#logistic-regression\n",
      "  n_iter_i = _check_optimize_result(\n",
      "C:\\ProgramData\\Anaconda3\\lib\\site-packages\\sklearn\\linear_model\\_logistic.py:814: ConvergenceWarning: lbfgs failed to converge (status=1):\n",
      "STOP: TOTAL NO. of ITERATIONS REACHED LIMIT.\n",
      "\n",
      "Increase the number of iterations (max_iter) or scale the data as shown in:\n",
      "    https://scikit-learn.org/stable/modules/preprocessing.html\n",
      "Please also refer to the documentation for alternative solver options:\n",
      "    https://scikit-learn.org/stable/modules/linear_model.html#logistic-regression\n",
      "  n_iter_i = _check_optimize_result(\n",
      "C:\\ProgramData\\Anaconda3\\lib\\site-packages\\sklearn\\linear_model\\_logistic.py:814: ConvergenceWarning: lbfgs failed to converge (status=1):\n",
      "STOP: TOTAL NO. of ITERATIONS REACHED LIMIT.\n",
      "\n",
      "Increase the number of iterations (max_iter) or scale the data as shown in:\n",
      "    https://scikit-learn.org/stable/modules/preprocessing.html\n",
      "Please also refer to the documentation for alternative solver options:\n",
      "    https://scikit-learn.org/stable/modules/linear_model.html#logistic-regression\n",
      "  n_iter_i = _check_optimize_result(\n",
      "C:\\ProgramData\\Anaconda3\\lib\\site-packages\\sklearn\\linear_model\\_logistic.py:814: ConvergenceWarning: lbfgs failed to converge (status=1):\n",
      "STOP: TOTAL NO. of ITERATIONS REACHED LIMIT.\n",
      "\n",
      "Increase the number of iterations (max_iter) or scale the data as shown in:\n",
      "    https://scikit-learn.org/stable/modules/preprocessing.html\n",
      "Please also refer to the documentation for alternative solver options:\n",
      "    https://scikit-learn.org/stable/modules/linear_model.html#logistic-regression\n",
      "  n_iter_i = _check_optimize_result(\n",
      "C:\\ProgramData\\Anaconda3\\lib\\site-packages\\sklearn\\linear_model\\_logistic.py:814: ConvergenceWarning: lbfgs failed to converge (status=1):\n",
      "STOP: TOTAL NO. of ITERATIONS REACHED LIMIT.\n",
      "\n",
      "Increase the number of iterations (max_iter) or scale the data as shown in:\n",
      "    https://scikit-learn.org/stable/modules/preprocessing.html\n",
      "Please also refer to the documentation for alternative solver options:\n",
      "    https://scikit-learn.org/stable/modules/linear_model.html#logistic-regression\n",
      "  n_iter_i = _check_optimize_result(\n",
      "C:\\ProgramData\\Anaconda3\\lib\\site-packages\\sklearn\\linear_model\\_logistic.py:814: ConvergenceWarning: lbfgs failed to converge (status=1):\n",
      "STOP: TOTAL NO. of ITERATIONS REACHED LIMIT.\n",
      "\n",
      "Increase the number of iterations (max_iter) or scale the data as shown in:\n",
      "    https://scikit-learn.org/stable/modules/preprocessing.html\n",
      "Please also refer to the documentation for alternative solver options:\n",
      "    https://scikit-learn.org/stable/modules/linear_model.html#logistic-regression\n",
      "  n_iter_i = _check_optimize_result(\n",
      "C:\\ProgramData\\Anaconda3\\lib\\site-packages\\sklearn\\linear_model\\_logistic.py:814: ConvergenceWarning: lbfgs failed to converge (status=1):\n",
      "STOP: TOTAL NO. of ITERATIONS REACHED LIMIT.\n",
      "\n",
      "Increase the number of iterations (max_iter) or scale the data as shown in:\n",
      "    https://scikit-learn.org/stable/modules/preprocessing.html\n",
      "Please also refer to the documentation for alternative solver options:\n",
      "    https://scikit-learn.org/stable/modules/linear_model.html#logistic-regression\n",
      "  n_iter_i = _check_optimize_result(\n",
      "C:\\ProgramData\\Anaconda3\\lib\\site-packages\\sklearn\\linear_model\\_logistic.py:814: ConvergenceWarning: lbfgs failed to converge (status=1):\n",
      "STOP: TOTAL NO. of ITERATIONS REACHED LIMIT.\n",
      "\n",
      "Increase the number of iterations (max_iter) or scale the data as shown in:\n",
      "    https://scikit-learn.org/stable/modules/preprocessing.html\n",
      "Please also refer to the documentation for alternative solver options:\n",
      "    https://scikit-learn.org/stable/modules/linear_model.html#logistic-regression\n",
      "  n_iter_i = _check_optimize_result(\n"
     ]
    },
    {
     "name": "stdout",
     "output_type": "stream",
     "text": [
      "... predicting\n",
      "... scoring\n",
      "Fitting Nearest Neighbors model...\n",
      "... predicting\n",
      "... scoring\n",
      "Fitting Linear SVC model...\n",
      "... predicting\n",
      "... scoring\n",
      "Fitting RBF SVC model...\n",
      "... predicting\n",
      "... scoring\n",
      "Fitting Linear SVM model...\n",
      "... predicting\n",
      "... scoring\n",
      "Fitting Decision Tree model...\n",
      "... predicting\n",
      "... scoring\n",
      "Fitting Random Forest model...\n",
      "... predicting\n",
      "... scoring\n",
      "Fitting AdaBoost model...\n"
     ]
    },
    {
     "name": "stderr",
     "output_type": "stream",
     "text": [
      "C:\\ProgramData\\Anaconda3\\lib\\site-packages\\sklearn\\metrics\\_classification.py:1318: UndefinedMetricWarning: Precision is ill-defined and being set to 0.0 in labels with no predicted samples. Use `zero_division` parameter to control this behavior.\n",
      "  _warn_prf(average, modifier, msg_start, len(result))\n",
      "C:\\ProgramData\\Anaconda3\\lib\\site-packages\\sklearn\\metrics\\_classification.py:1318: UndefinedMetricWarning: Precision and F-score are ill-defined and being set to 0.0 in labels with no predicted samples. Use `zero_division` parameter to control this behavior.\n",
      "  _warn_prf(average, modifier, msg_start, len(result))\n",
      "C:\\ProgramData\\Anaconda3\\lib\\site-packages\\sklearn\\metrics\\_classification.py:1318: UndefinedMetricWarning: Precision and F-score are ill-defined and being set to 0.0 in labels with no predicted samples. Use `zero_division` parameter to control this behavior.\n",
      "  _warn_prf(average, modifier, msg_start, len(result))\n",
      "C:\\ProgramData\\Anaconda3\\lib\\site-packages\\sklearn\\metrics\\_classification.py:1318: UndefinedMetricWarning: Precision and F-score are ill-defined and being set to 0.0 in labels with no predicted samples. Use `zero_division` parameter to control this behavior.\n",
      "  _warn_prf(average, modifier, msg_start, len(result))\n"
     ]
    },
    {
     "name": "stdout",
     "output_type": "stream",
     "text": [
      "... predicting\n",
      "... scoring\n"
     ]
    }
   ],
   "source": [
    "# Training of models, scoring & appending to results list\n",
    "results = []\n",
    "\n",
    "# Creating dictionaries to store evaluation results\n",
    "models = {}\n",
    "confusion = {}\n",
    "class_report = {}\n",
    "\n",
    "# This will calculate the total training time of each model\n",
    "for name, clf in zip(names, classifiers):\n",
    "    print ('Fitting {:s} model...'.format(name))\n",
    "    run_time = %timeit -q -o clf.fit(X_train, y_train)\n",
    "\n",
    "# This will show us the status of the training\n",
    "    print ('... predicting')\n",
    "    y_pred = clf.predict(X_train)\n",
    "    y_pred_test = clf.predict(X_test)\n",
    "\n",
    "# This will show us the status of the scoring\n",
    "    print ('... scoring')\n",
    "    \n",
    "# These are our evaluation measures\n",
    "    accuracy  = metrics.accuracy_score(y_train, y_pred)\n",
    "    precision = metrics.precision_score(y_train, y_pred, average='macro')\n",
    "    recall    = metrics.recall_score(y_train, y_pred, average='macro')\n",
    "\n",
    "    f1        = metrics.f1_score(y_train, y_pred, average='macro')\n",
    "    f1_test   = metrics.f1_score(y_test, y_pred_test, average='macro')\n",
    "\n",
    "# Save the results to dictionaries\n",
    "    models[name] = clf\n",
    "    confusion[name] = metrics.confusion_matrix(y_train, y_pred)\n",
    "    class_report[name] = metrics.classification_report(y_train, y_pred)\n",
    "\n",
    "    results.append([name, accuracy, precision,\n",
    "                    recall, f1, f1_test, run_time.best])\n",
    "\n",
    "# Creating a dataframe of the results to view easily\n",
    "results = pd.DataFrame(results, columns=['Classifier', 'Accuracy',\n",
    "                                         'Precision', 'Recall', 'F1 Train',\n",
    "                                         'F1 Test', 'Train Time'])\n",
    "results.set_index('Classifier', inplace= True)"
   ]
  },
  {
   "cell_type": "code",
   "execution_count": 118,
   "id": "167f5c7f",
   "metadata": {},
   "outputs": [
    {
     "data": {
      "text/html": [
       "<div>\n",
       "<style scoped>\n",
       "    .dataframe tbody tr th:only-of-type {\n",
       "        vertical-align: middle;\n",
       "    }\n",
       "\n",
       "    .dataframe tbody tr th {\n",
       "        vertical-align: top;\n",
       "    }\n",
       "\n",
       "    .dataframe thead th {\n",
       "        text-align: right;\n",
       "    }\n",
       "</style>\n",
       "<table border=\"1\" class=\"dataframe\">\n",
       "  <thead>\n",
       "    <tr style=\"text-align: right;\">\n",
       "      <th></th>\n",
       "      <th>Accuracy</th>\n",
       "      <th>Precision</th>\n",
       "      <th>Recall</th>\n",
       "      <th>F1 Train</th>\n",
       "      <th>F1 Test</th>\n",
       "      <th>Train Time</th>\n",
       "    </tr>\n",
       "    <tr>\n",
       "      <th>Classifier</th>\n",
       "      <th></th>\n",
       "      <th></th>\n",
       "      <th></th>\n",
       "      <th></th>\n",
       "      <th></th>\n",
       "      <th></th>\n",
       "    </tr>\n",
       "  </thead>\n",
       "  <tbody>\n",
       "    <tr>\n",
       "      <th>Linear SVM</th>\n",
       "      <td>0.999842</td>\n",
       "      <td>0.999723</td>\n",
       "      <td>0.999734</td>\n",
       "      <td>0.999728</td>\n",
       "      <td>0.653642</td>\n",
       "      <td>2.637131</td>\n",
       "    </tr>\n",
       "    <tr>\n",
       "      <th>Logistic Regression</th>\n",
       "      <td>0.999447</td>\n",
       "      <td>0.999346</td>\n",
       "      <td>0.998684</td>\n",
       "      <td>0.999015</td>\n",
       "      <td>0.649786</td>\n",
       "      <td>9.073931</td>\n",
       "    </tr>\n",
       "    <tr>\n",
       "      <th>Linear SVC</th>\n",
       "      <td>0.827420</td>\n",
       "      <td>0.897360</td>\n",
       "      <td>0.681862</td>\n",
       "      <td>0.740488</td>\n",
       "      <td>0.554446</td>\n",
       "      <td>29.630730</td>\n",
       "    </tr>\n",
       "    <tr>\n",
       "      <th>AdaBoost</th>\n",
       "      <td>0.646464</td>\n",
       "      <td>0.636470</td>\n",
       "      <td>0.500647</td>\n",
       "      <td>0.536056</td>\n",
       "      <td>0.520234</td>\n",
       "      <td>102.852678</td>\n",
       "    </tr>\n",
       "    <tr>\n",
       "      <th>Decision Tree</th>\n",
       "      <td>0.608850</td>\n",
       "      <td>0.659978</td>\n",
       "      <td>0.392743</td>\n",
       "      <td>0.411174</td>\n",
       "      <td>0.411975</td>\n",
       "      <td>2.257133</td>\n",
       "    </tr>\n",
       "    <tr>\n",
       "      <th>Nearest Neighbors</th>\n",
       "      <td>0.510628</td>\n",
       "      <td>0.648726</td>\n",
       "      <td>0.561284</td>\n",
       "      <td>0.503866</td>\n",
       "      <td>0.342822</td>\n",
       "      <td>0.002066</td>\n",
       "    </tr>\n",
       "    <tr>\n",
       "      <th>RBF SVC</th>\n",
       "      <td>0.999842</td>\n",
       "      <td>0.999831</td>\n",
       "      <td>0.999626</td>\n",
       "      <td>0.999728</td>\n",
       "      <td>0.254460</td>\n",
       "      <td>76.829914</td>\n",
       "    </tr>\n",
       "    <tr>\n",
       "      <th>Random Forest</th>\n",
       "      <td>0.539234</td>\n",
       "      <td>0.134808</td>\n",
       "      <td>0.250000</td>\n",
       "      <td>0.175163</td>\n",
       "      <td>0.175154</td>\n",
       "      <td>0.038966</td>\n",
       "    </tr>\n",
       "  </tbody>\n",
       "</table>\n",
       "</div>"
      ],
      "text/plain": [
       "                     Accuracy  Precision    Recall  F1 Train   F1 Test  \\\n",
       "Classifier                                                               \n",
       "Linear SVM           0.999842   0.999723  0.999734  0.999728  0.653642   \n",
       "Logistic Regression  0.999447   0.999346  0.998684  0.999015  0.649786   \n",
       "Linear SVC           0.827420   0.897360  0.681862  0.740488  0.554446   \n",
       "AdaBoost             0.646464   0.636470  0.500647  0.536056  0.520234   \n",
       "Decision Tree        0.608850   0.659978  0.392743  0.411174  0.411975   \n",
       "Nearest Neighbors    0.510628   0.648726  0.561284  0.503866  0.342822   \n",
       "RBF SVC              0.999842   0.999831  0.999626  0.999728  0.254460   \n",
       "Random Forest        0.539234   0.134808  0.250000  0.175163  0.175154   \n",
       "\n",
       "                     Train Time  \n",
       "Classifier                       \n",
       "Linear SVM             2.637131  \n",
       "Logistic Regression    9.073931  \n",
       "Linear SVC            29.630730  \n",
       "AdaBoost             102.852678  \n",
       "Decision Tree          2.257133  \n",
       "Nearest Neighbors      0.002066  \n",
       "RBF SVC               76.829914  \n",
       "Random Forest          0.038966  "
      ]
     },
     "execution_count": 118,
     "metadata": {},
     "output_type": "execute_result"
    }
   ],
   "source": [
    "# Viewing the results in a dataframe\n",
    "results.sort_values('F1 Test', ascending=False)"
   ]
  },
  {
   "cell_type": "markdown",
   "id": "e5ed3ac3",
   "metadata": {},
   "source": [
    "Observations:\n",
    "\n",
    "The RBF & Adaboost models took long the longest to train but didn't perform well on the F1 test.\n",
    "\n",
    "All other models were trained relatively fast in comparison to the RBF & Adaboost.\n",
    "\n",
    "From the results table & bar chart, we can see the models that perform best are the Logistic Regression & Linear Support Vector Machines(SVM). We will now try & improve on these two models."
   ]
  },
  {
   "cell_type": "markdown",
   "id": "08cd9807",
   "metadata": {},
   "source": [
    "# Tuning the chosen models"
   ]
  },
  {
   "cell_type": "markdown",
   "id": "00a5cb11",
   "metadata": {},
   "source": [
    "To improve our models, we will use Cross-validation & Grid Search methods"
   ]
  },
  {
   "cell_type": "code",
   "execution_count": 119,
   "id": "3ec664e8",
   "metadata": {},
   "outputs": [],
   "source": [
    "kfold = StratifiedKFold( n_splits = 150)"
   ]
  },
  {
   "cell_type": "markdown",
   "id": "f0931a81",
   "metadata": {},
   "source": [
    "# Linear SVC Model"
   ]
  },
  {
   "cell_type": "code",
   "execution_count": 120,
   "id": "adf4ed61",
   "metadata": {},
   "outputs": [
    {
     "name": "stdout",
     "output_type": "stream",
     "text": [
      "Fitting 150 folds for each of 4 candidates, totalling 600 fits\n",
      "{'C': 0.09}\n",
      "0.7510980392156862\n"
     ]
    }
   ],
   "source": [
    "# Linear SVC model\n",
    "#Set the parameters according to the first run output (C = 0.09)\n",
    "param_grid2 = {'C': [0.01, 0.03, 0.06, 0.09]}\n",
    "\n",
    "# Grid Search on the Linear SVC model\n",
    "gs_sv = GridSearchCV(LinearSVC(), param_grid = [param_grid2], \n",
    "                     verbose = 1, cv = kfold, n_jobs = -1)\n",
    "\n",
    "# Fitting the model to our data\n",
    "gs_sv.fit(X_train, y_train)\n",
    "\n",
    "# Find the best estimator\n",
    "gs_sv_best = gs_sv.best_estimator_\n",
    "\n",
    "# Print the best parameters\n",
    "print(gs_sv.best_params_)\n",
    "\n",
    "# Print the best score\n",
    "print(gs_sv.best_score_)"
   ]
  },
  {
   "cell_type": "code",
   "execution_count": 121,
   "id": "b4a94533",
   "metadata": {},
   "outputs": [
    {
     "name": "stdout",
     "output_type": "stream",
     "text": [
      "Fitting 150 folds for each of 4 candidates, totalling 600 fits\n",
      "{'C': 0.09}\n",
      "0.7510980392156862\n"
     ]
    }
   ],
   "source": [
    "# Linear SVC model\n",
    "#Set the parameters according to the first run output (C = 0.09)\n",
    "param_grid2 = {'C': [0.01, 0.03, 0.06, 0.09]}\n",
    "\n",
    "# Grid Search on the Linear SVC model\n",
    "gs_sv = GridSearchCV(LinearSVC(), param_grid = [param_grid2], \n",
    "                     verbose = 1, cv = kfold, n_jobs = -1)\n",
    "\n",
    "# Fitting the model to our data\n",
    "gs_sv.fit(X_train, y_train)\n",
    "\n",
    "# Find the best estimator\n",
    "gs_sv_best = gs_sv.best_estimator_\n",
    "\n",
    "# Print the best parameters\n",
    "print(gs_sv.best_params_)\n",
    "\n",
    "# Print the best score\n",
    "print(gs_sv.best_score_)"
   ]
  },
  {
   "cell_type": "markdown",
   "id": "c07e0a67",
   "metadata": {},
   "source": [
    "# Logistic Regression Model"
   ]
  },
  {
   "cell_type": "code",
   "execution_count": 123,
   "id": "de4078dd",
   "metadata": {},
   "outputs": [
    {
     "name": "stdout",
     "output_type": "stream",
     "text": [
      "Fitting 150 folds for each of 1 candidates, totalling 150 fits\n"
     ]
    },
    {
     "name": "stderr",
     "output_type": "stream",
     "text": [
      "C:\\ProgramData\\Anaconda3\\lib\\site-packages\\sklearn\\linear_model\\_logistic.py:814: ConvergenceWarning: lbfgs failed to converge (status=1):\n",
      "STOP: TOTAL NO. of ITERATIONS REACHED LIMIT.\n",
      "\n",
      "Increase the number of iterations (max_iter) or scale the data as shown in:\n",
      "    https://scikit-learn.org/stable/modules/preprocessing.html\n",
      "Please also refer to the documentation for alternative solver options:\n",
      "    https://scikit-learn.org/stable/modules/linear_model.html#logistic-regression\n",
      "  n_iter_i = _check_optimize_result(\n",
      "C:\\ProgramData\\Anaconda3\\lib\\site-packages\\sklearn\\linear_model\\_logistic.py:814: ConvergenceWarning: lbfgs failed to converge (status=1):\n",
      "STOP: TOTAL NO. of ITERATIONS REACHED LIMIT.\n",
      "\n",
      "Increase the number of iterations (max_iter) or scale the data as shown in:\n",
      "    https://scikit-learn.org/stable/modules/preprocessing.html\n",
      "Please also refer to the documentation for alternative solver options:\n",
      "    https://scikit-learn.org/stable/modules/linear_model.html#logistic-regression\n",
      "  n_iter_i = _check_optimize_result(\n",
      "C:\\ProgramData\\Anaconda3\\lib\\site-packages\\sklearn\\linear_model\\_logistic.py:814: ConvergenceWarning: lbfgs failed to converge (status=1):\n",
      "STOP: TOTAL NO. of ITERATIONS REACHED LIMIT.\n",
      "\n",
      "Increase the number of iterations (max_iter) or scale the data as shown in:\n",
      "    https://scikit-learn.org/stable/modules/preprocessing.html\n",
      "Please also refer to the documentation for alternative solver options:\n",
      "    https://scikit-learn.org/stable/modules/linear_model.html#logistic-regression\n",
      "  n_iter_i = _check_optimize_result(\n"
     ]
    },
    {
     "name": "stdout",
     "output_type": "stream",
     "text": [
      "{'C': 5, 'dual': False, 'multi_class': 'ovr', 'penalty': 'l2'}\n",
      "0.7571979634621144\n"
     ]
    },
    {
     "name": "stderr",
     "output_type": "stream",
     "text": [
      "C:\\ProgramData\\Anaconda3\\lib\\site-packages\\sklearn\\linear_model\\_logistic.py:814: ConvergenceWarning: lbfgs failed to converge (status=1):\n",
      "STOP: TOTAL NO. of ITERATIONS REACHED LIMIT.\n",
      "\n",
      "Increase the number of iterations (max_iter) or scale the data as shown in:\n",
      "    https://scikit-learn.org/stable/modules/preprocessing.html\n",
      "Please also refer to the documentation for alternative solver options:\n",
      "    https://scikit-learn.org/stable/modules/linear_model.html#logistic-regression\n",
      "  n_iter_i = _check_optimize_result(\n"
     ]
    }
   ],
   "source": [
    "# Logistic Regression model\n",
    "lr = LogisticRegression(class_weight='balanced')\n",
    "'''The balanced class weight automatically balances data based on the label frequency'''\n",
    "\n",
    "#Set the parameters according to the first run output (C = 0.09)\n",
    "lr2_param = {\n",
    "    'multi_class':[('ovr')],\n",
    "    'penalty':['l2'],\n",
    "    'dual':[False],\n",
    "    'C':[5]   \n",
    "    }\n",
    "\n",
    "# Grid Search on the Logistic Regression model\n",
    "lr_CV = GridSearchCV(lr, param_grid=[lr2_param],\n",
    "                     cv=kfold, n_jobs=-1, verbose=1)\n",
    "\n",
    "#  Fitting the model to our data\n",
    "lr_CV.fit(train_vect, Train_df['sentiment'])\n",
    "\n",
    "# Print the best parameters\n",
    "print(lr_CV.best_params_)\n",
    "\n",
    "# Find the best estimator\n",
    "logi_best = lr_CV.best_estimator_\n",
    "\n",
    "# Print the best score\n",
    "print(lr_CV.best_score_)"
   ]
  },
  {
   "cell_type": "code",
   "execution_count": 125,
   "id": "74d22579",
   "metadata": {},
   "outputs": [
    {
     "name": "stderr",
     "output_type": "stream",
     "text": [
      "C:\\ProgramData\\Anaconda3\\lib\\site-packages\\sklearn\\linear_model\\_logistic.py:814: ConvergenceWarning: lbfgs failed to converge (status=1):\n",
      "STOP: TOTAL NO. of ITERATIONS REACHED LIMIT.\n",
      "\n",
      "Increase the number of iterations (max_iter) or scale the data as shown in:\n",
      "    https://scikit-learn.org/stable/modules/preprocessing.html\n",
      "Please also refer to the documentation for alternative solver options:\n",
      "    https://scikit-learn.org/stable/modules/linear_model.html#logistic-regression\n",
      "  n_iter_i = _check_optimize_result(\n",
      "C:\\ProgramData\\Anaconda3\\lib\\site-packages\\sklearn\\linear_model\\_logistic.py:814: ConvergenceWarning: lbfgs failed to converge (status=1):\n",
      "STOP: TOTAL NO. of ITERATIONS REACHED LIMIT.\n",
      "\n",
      "Increase the number of iterations (max_iter) or scale the data as shown in:\n",
      "    https://scikit-learn.org/stable/modules/preprocessing.html\n",
      "Please also refer to the documentation for alternative solver options:\n",
      "    https://scikit-learn.org/stable/modules/linear_model.html#logistic-regression\n",
      "  n_iter_i = _check_optimize_result(\n",
      "C:\\ProgramData\\Anaconda3\\lib\\site-packages\\sklearn\\linear_model\\_logistic.py:814: ConvergenceWarning: lbfgs failed to converge (status=1):\n",
      "STOP: TOTAL NO. of ITERATIONS REACHED LIMIT.\n",
      "\n",
      "Increase the number of iterations (max_iter) or scale the data as shown in:\n",
      "    https://scikit-learn.org/stable/modules/preprocessing.html\n",
      "Please also refer to the documentation for alternative solver options:\n",
      "    https://scikit-learn.org/stable/modules/linear_model.html#logistic-regression\n",
      "  n_iter_i = _check_optimize_result(\n",
      "C:\\ProgramData\\Anaconda3\\lib\\site-packages\\sklearn\\linear_model\\_logistic.py:814: ConvergenceWarning: lbfgs failed to converge (status=1):\n",
      "STOP: TOTAL NO. of ITERATIONS REACHED LIMIT.\n",
      "\n",
      "Increase the number of iterations (max_iter) or scale the data as shown in:\n",
      "    https://scikit-learn.org/stable/modules/preprocessing.html\n",
      "Please also refer to the documentation for alternative solver options:\n",
      "    https://scikit-learn.org/stable/modules/linear_model.html#logistic-regression\n",
      "  n_iter_i = _check_optimize_result(\n"
     ]
    },
    {
     "data": {
      "text/plain": [
       "LogisticRegression(C=5, class_weight='balanced', multi_class='ovr')"
      ]
     },
     "execution_count": 125,
     "metadata": {},
     "output_type": "execute_result"
    }
   ],
   "source": [
    "# Building Logistic Regression model with best parameters\n",
    "lg_reg = LogisticRegression(class_weight='balanced', multi_class=('ovr'), \n",
    "                            penalty='l2', dual=False, C=5)\n",
    "\n",
    "# Training the model on the whole training dataset\n",
    "lg_reg.fit(train_vect, Train_df['sentiment'])"
   ]
  },
  {
   "cell_type": "markdown",
   "id": "a39b1e59",
   "metadata": {},
   "source": [
    "# Combine Model Predictions Into Ensemble Predictions"
   ]
  },
  {
   "cell_type": "code",
   "execution_count": 128,
   "id": "664ab87d",
   "metadata": {},
   "outputs": [
    {
     "name": "stdout",
     "output_type": "stream",
     "text": [
      "Fitting 150 folds for each of 1 candidates, totalling 150 fits\n"
     ]
    },
    {
     "name": "stderr",
     "output_type": "stream",
     "text": [
      "C:\\ProgramData\\Anaconda3\\lib\\site-packages\\sklearn\\linear_model\\_logistic.py:814: ConvergenceWarning: lbfgs failed to converge (status=1):\n",
      "STOP: TOTAL NO. of ITERATIONS REACHED LIMIT.\n",
      "\n",
      "Increase the number of iterations (max_iter) or scale the data as shown in:\n",
      "    https://scikit-learn.org/stable/modules/preprocessing.html\n",
      "Please also refer to the documentation for alternative solver options:\n",
      "    https://scikit-learn.org/stable/modules/linear_model.html#logistic-regression\n",
      "  n_iter_i = _check_optimize_result(\n",
      "C:\\ProgramData\\Anaconda3\\lib\\site-packages\\sklearn\\linear_model\\_logistic.py:814: ConvergenceWarning: lbfgs failed to converge (status=1):\n",
      "STOP: TOTAL NO. of ITERATIONS REACHED LIMIT.\n",
      "\n",
      "Increase the number of iterations (max_iter) or scale the data as shown in:\n",
      "    https://scikit-learn.org/stable/modules/preprocessing.html\n",
      "Please also refer to the documentation for alternative solver options:\n",
      "    https://scikit-learn.org/stable/modules/linear_model.html#logistic-regression\n",
      "  n_iter_i = _check_optimize_result(\n",
      "C:\\ProgramData\\Anaconda3\\lib\\site-packages\\sklearn\\linear_model\\_logistic.py:814: ConvergenceWarning: lbfgs failed to converge (status=1):\n",
      "STOP: TOTAL NO. of ITERATIONS REACHED LIMIT.\n",
      "\n",
      "Increase the number of iterations (max_iter) or scale the data as shown in:\n",
      "    https://scikit-learn.org/stable/modules/preprocessing.html\n",
      "Please also refer to the documentation for alternative solver options:\n",
      "    https://scikit-learn.org/stable/modules/linear_model.html#logistic-regression\n",
      "  n_iter_i = _check_optimize_result(\n",
      "C:\\ProgramData\\Anaconda3\\lib\\site-packages\\sklearn\\linear_model\\_logistic.py:814: ConvergenceWarning: lbfgs failed to converge (status=1):\n",
      "STOP: TOTAL NO. of ITERATIONS REACHED LIMIT.\n",
      "\n",
      "Increase the number of iterations (max_iter) or scale the data as shown in:\n",
      "    https://scikit-learn.org/stable/modules/preprocessing.html\n",
      "Please also refer to the documentation for alternative solver options:\n",
      "    https://scikit-learn.org/stable/modules/linear_model.html#logistic-regression\n",
      "  n_iter_i = _check_optimize_result(\n",
      "C:\\ProgramData\\Anaconda3\\lib\\site-packages\\sklearn\\linear_model\\_logistic.py:814: ConvergenceWarning: lbfgs failed to converge (status=1):\n",
      "STOP: TOTAL NO. of ITERATIONS REACHED LIMIT.\n",
      "\n",
      "Increase the number of iterations (max_iter) or scale the data as shown in:\n",
      "    https://scikit-learn.org/stable/modules/preprocessing.html\n",
      "Please also refer to the documentation for alternative solver options:\n",
      "    https://scikit-learn.org/stable/modules/linear_model.html#logistic-regression\n",
      "  n_iter_i = _check_optimize_result(\n",
      "C:\\ProgramData\\Anaconda3\\lib\\site-packages\\sklearn\\linear_model\\_logistic.py:814: ConvergenceWarning: lbfgs failed to converge (status=1):\n",
      "STOP: TOTAL NO. of ITERATIONS REACHED LIMIT.\n",
      "\n",
      "Increase the number of iterations (max_iter) or scale the data as shown in:\n",
      "    https://scikit-learn.org/stable/modules/preprocessing.html\n",
      "Please also refer to the documentation for alternative solver options:\n",
      "    https://scikit-learn.org/stable/modules/linear_model.html#logistic-regression\n",
      "  n_iter_i = _check_optimize_result(\n",
      "C:\\ProgramData\\Anaconda3\\lib\\site-packages\\sklearn\\linear_model\\_logistic.py:814: ConvergenceWarning: lbfgs failed to converge (status=1):\n",
      "STOP: TOTAL NO. of ITERATIONS REACHED LIMIT.\n",
      "\n",
      "Increase the number of iterations (max_iter) or scale the data as shown in:\n",
      "    https://scikit-learn.org/stable/modules/preprocessing.html\n",
      "Please also refer to the documentation for alternative solver options:\n",
      "    https://scikit-learn.org/stable/modules/linear_model.html#logistic-regression\n",
      "  n_iter_i = _check_optimize_result(\n"
     ]
    },
    {
     "name": "stdout",
     "output_type": "stream",
     "text": [
      "accuracy: 0.6464638482813118\n",
      "precision: 0.6364697414711384\n",
      "recall: 0.5006469981448918\n",
      "f1_score: 0.5360558645835901\n"
     ]
    },
    {
     "name": "stderr",
     "output_type": "stream",
     "text": [
      "C:\\ProgramData\\Anaconda3\\lib\\site-packages\\sklearn\\linear_model\\_logistic.py:814: ConvergenceWarning: lbfgs failed to converge (status=1):\n",
      "STOP: TOTAL NO. of ITERATIONS REACHED LIMIT.\n",
      "\n",
      "Increase the number of iterations (max_iter) or scale the data as shown in:\n",
      "    https://scikit-learn.org/stable/modules/preprocessing.html\n",
      "Please also refer to the documentation for alternative solver options:\n",
      "    https://scikit-learn.org/stable/modules/linear_model.html#logistic-regression\n",
      "  n_iter_i = _check_optimize_result(\n"
     ]
    }
   ],
   "source": [
    "# create the ensemble model\n",
    "estimators = {('linearSVC', lr_CV), ('logistic', lg_reg)}\n",
    "ensemble = VotingClassifier(estimators)\n",
    "ensemble.fit(train_vect, Train_df['sentiment'])\n",
    "\n",
    "# Checking model perfomance\n",
    "print('accuracy: {}'.format(metrics.accuracy_score(y_train, y_pred)))\n",
    "print('precision: {}'.format(metrics.precision_score(y_train, y_pred, average='macro')))\n",
    "print('recall: {}'.format(metrics.recall_score(y_train, y_pred, average='macro')))\n",
    "print('f1_score: {}'.format(metrics.f1_score(y_train, y_pred, average='macro')))"
   ]
  },
  {
   "cell_type": "markdown",
   "id": "184d6416",
   "metadata": {},
   "source": [
    "# Generating a submission file"
   ]
  },
  {
   "cell_type": "markdown",
   "id": "57660386",
   "metadata": {},
   "source": [
    "Now that best our model is tuned, we can make predictions on the unseen test data, generate a submission file & submit to Kaggle."
   ]
  },
  {
   "cell_type": "code",
   "execution_count": 129,
   "id": "037ceaf7",
   "metadata": {},
   "outputs": [],
   "source": [
    "# Making predictions on the test data set\n",
    "submission2 = gs_sv.predict(test_vect)"
   ]
  },
  {
   "cell_type": "code",
   "execution_count": 131,
   "id": "a94aa37f",
   "metadata": {},
   "outputs": [],
   "source": [
    "# Appending the prediction results to the test set, in a new column called 'sentiment'\n",
    "output = pd.DataFrame( data = {'tweetid': Test_df['tweetid'],\n",
    "                               'sentiment': submission2 })\n",
    "\n",
    "# Creating a csv file\n",
    "output.to_csv('submission_final.csv', index = False)"
   ]
  }
 ],
 "metadata": {
  "kernelspec": {
   "display_name": "Python 3 (ipykernel)",
   "language": "python",
   "name": "python3"
  },
  "language_info": {
   "codemirror_mode": {
    "name": "ipython",
    "version": 3
   },
   "file_extension": ".py",
   "mimetype": "text/x-python",
   "name": "python",
   "nbconvert_exporter": "python",
   "pygments_lexer": "ipython3",
   "version": "3.9.13"
  }
 },
 "nbformat": 4,
 "nbformat_minor": 5
}
